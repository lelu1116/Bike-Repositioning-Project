{
 "cells": [
  {
   "cell_type": "markdown",
   "metadata": {},
   "source": [
    "# Divvy Bike Repositioning Project\n",
    "\n",
    "\n",
    "\n"
   ]
  },
  {
   "cell_type": "code",
   "execution_count": 1,
   "metadata": {},
   "outputs": [
    {
     "name": "stdout",
     "output_type": "stream",
     "text": [
      "Requirement already satisfied: haversine in c:\\users\\fumus\\anaconda3\\lib\\site-packages (2.5.1)\n"
     ]
    }
   ],
   "source": [
    "from gurobipy import *\n",
    "from datascience import *\n",
    "import numpy as np\n",
    "%matplotlib inline\n",
    "import matplotlib.pyplot as plots\n",
    "plots.style.use('fivethirtyeight')\n",
    "import math\n",
    "import seaborn as sns\n",
    "import datetime\n",
    "import folium\n",
    "import pandas as pd\n",
    "!pip install haversine\n",
    "import haversine as hs #package to caculate latitude and longtitude . distance. "
   ]
  },
  {
   "cell_type": "markdown",
   "metadata": {},
   "source": [
    "\n",
    "\n",
    " ### Table of Contents\n",
    "\n",
    "* [Section I: Introduction](#1)\n",
    "* [Section II: Data Analysis](#2)\n",
    "    * [Section A:Statistical Analysis](#Section_A)\n",
    "    * [Section B:Data Visualization](#Section_B)\n",
    "    * [Section C:Findings](#Section_C)\n",
    "\n",
    "* [Section III: Model](#3)\n",
    "    * [Sensitivity Analysis](#Sensitivity_Analysis)\n",
    "    \n",
    "* [Section V: Model Analysis and Managerial Insights](#4)\n",
    "* [Section VI: Conclusion](#5)\n",
    "* [Author Contributions](#6)\n",
    "\n"
   ]
  },
  {
   "cell_type": "markdown",
   "metadata": {},
   "source": [
    "# 1 "
   ]
  },
  {
   "cell_type": "markdown",
   "metadata": {},
   "source": [
    "# Introduction"
   ]
  },
  {
   "cell_type": "markdown",
   "metadata": {},
   "source": [
    "It is early 2018 and the CEO of Chicago Divvy, Juan Serpa, is sitting at his desk reflecting on another year for the bike-sharing program. Divvy, as a program of the Chicago Department of Transportation (CDOT), aims to promote economic recovery, reduce traffic congestion and improve the air quality of the city. Its service opens to residents and visitors in Chicago a convenient and affordable transportation option for getting to the workplace, visiting and exploring the city. Such a new system faces many uncertainties and precise indicators in its operation, for instance, the overall design of the system, the selection of specific station locations and dock installation, and the operational expense. \n",
    "\n",
    "Juan decided to hire a team of data scientists, who were experts in optimization and Python, to help him solve the operational challenges that Divvy faces. In particular, he would like to have the bike repositioning scheme and cost, the location of new docking stations, the number of extra bikes needed, the pricing of membership, to better make its bike-share site planning decisions. \n"
   ]
  },
  {
   "cell_type": "markdown",
   "metadata": {},
   "source": [
    "# 1.1 Data Polishment"
   ]
  },
  {
   "cell_type": "markdown",
   "metadata": {},
   "source": [
    "## Data Polishment Process"
   ]
  },
  {
   "cell_type": "markdown",
   "metadata": {},
   "source": [
    "#### The original table of the Divvy trips in the third quarter, 2017."
   ]
  },
  {
   "cell_type": "code",
   "execution_count": 13,
   "metadata": {},
   "outputs": [
    {
     "data": {
      "text/html": [
       "<table border=\"1\" class=\"dataframe\">\n",
       "    <thead>\n",
       "        <tr>\n",
       "            <th>trip_id</th> <th>start_time</th> <th>end_time</th> <th>bikeid</th> <th>tripduration</th> <th>from_station_id</th> <th>from_station_name</th> <th>to_station_id</th> <th>to_station_name</th> <th>usertype</th> <th>gender</th> <th>birthyear</th>\n",
       "        </tr>\n",
       "    </thead>\n",
       "    <tbody>\n",
       "        <tr>\n",
       "            <td>16734065</td> <td>9/30/2017 23:59:58</td> <td>10/1/2017 00:05:47</td> <td>1411  </td> <td>349         </td> <td>216            </td> <td>California Ave & Division St</td> <td>259          </td> <td>California Ave & Francis Pl</td> <td>Subscriber</td> <td>Male  </td> <td>1985     </td>\n",
       "        </tr>\n",
       "        <tr>\n",
       "            <td>16734064</td> <td>9/30/2017 23:59:53</td> <td>10/1/2017 00:05:47</td> <td>3048  </td> <td>354         </td> <td>216            </td> <td>California Ave & Division St</td> <td>259          </td> <td>California Ave & Francis Pl</td> <td>Subscriber</td> <td>Male  </td> <td>1979     </td>\n",
       "        </tr>\n",
       "        <tr>\n",
       "            <td>16734063</td> <td>9/30/2017 23:59:06</td> <td>10/1/2017 00:02:52</td> <td>2590  </td> <td>226         </td> <td>141            </td> <td>Clark St & Lincoln Ave      </td> <td>144          </td> <td>Larrabee St & Webster Ave  </td> <td>Subscriber</td> <td>Male  </td> <td>1993     </td>\n",
       "        </tr>\n",
       "    </tbody>\n",
       "</table>\n",
       "<p>... (1608267 rows omitted)</p>"
      ],
      "text/plain": [
       "<IPython.core.display.HTML object>"
      ]
     },
     "metadata": {},
     "output_type": "display_data"
    }
   ],
   "source": [
    "station_Q3=Table.read_table(\"Divvy_Trips_2017_Q3.csv\")\n",
    "station_Q3.show(3)"
   ]
  },
  {
   "cell_type": "markdown",
   "metadata": {},
   "source": [
    "#### The original table of the Divvy trips in the forth quarter, 2017."
   ]
  },
  {
   "cell_type": "code",
   "execution_count": 3,
   "metadata": {
    "scrolled": true
   },
   "outputs": [
    {
     "data": {
      "text/html": [
       "<table border=\"1\" class=\"dataframe\">\n",
       "    <thead>\n",
       "        <tr>\n",
       "            <th>trip_id</th> <th>start_time</th> <th>end_time</th> <th>bikeid</th> <th>tripduration</th> <th>from_station_id</th> <th>from_station_name</th> <th>to_station_id</th> <th>to_station_name</th> <th>usertype</th> <th>gender</th> <th>birthyear</th>\n",
       "        </tr>\n",
       "    </thead>\n",
       "    <tbody>\n",
       "        <tr>\n",
       "            <td>17536701</td> <td>12/31/2017 23:58</td> <td>1/1/2018 0:03</td> <td>3304  </td> <td>284         </td> <td>159            </td> <td>Claremont Ave & Hirsch St          </td> <td>69           </td> <td>Damen Ave & Pierce Ave             </td> <td>Subscriber</td> <td>Male  </td> <td>1988     </td>\n",
       "        </tr>\n",
       "        <tr>\n",
       "            <td>17536700</td> <td>12/31/2017 23:54</td> <td>1/1/2018 0:18</td> <td>5975  </td> <td>1402        </td> <td>145            </td> <td>Mies van der Rohe Way & Chestnut St</td> <td>145          </td> <td>Mies van der Rohe Way & Chestnut St</td> <td>Customer  </td> <td>nan   </td> <td>nan      </td>\n",
       "        </tr>\n",
       "        <tr>\n",
       "            <td>17536699</td> <td>12/31/2017 23:54</td> <td>1/1/2018 0:18</td> <td>4906  </td> <td>1441        </td> <td>145            </td> <td>Mies van der Rohe Way & Chestnut St</td> <td>145          </td> <td>Mies van der Rohe Way & Chestnut St</td> <td>Customer  </td> <td>nan   </td> <td>nan      </td>\n",
       "        </tr>\n",
       "    </tbody>\n",
       "</table>\n",
       "<p>... (669236 rows omitted)</p>"
      ],
      "text/plain": [
       "<IPython.core.display.HTML object>"
      ]
     },
     "metadata": {},
     "output_type": "display_data"
    }
   ],
   "source": [
    "station_Q4=Table.read_table(\"Divvy_Trips_2017_Q4.csv\")\n",
    "station_Q4.show(3)"
   ]
  },
  {
   "cell_type": "markdown",
   "metadata": {},
   "source": [
    "#### To better illustrate and interpret the data and the graphs, we added two columns into the table, which are the trip duration in minutes, and the customer's age. The new table is named as 'station_Q3_update'."
   ]
  },
  {
   "cell_type": "code",
   "execution_count": 34,
   "metadata": {},
   "outputs": [],
   "source": [
    "#change the unit to minutes:\n",
    "station_Q3_update=Table()\n",
    "station_Q3_update=station_Q3_update.with_columns(station_Q3.select(0,1,2,3,4))\n",
    "station_Q3_update=station_Q3_update.with_columns(\"trip_duration_min\",station_Q3[\"tripduration\"]/60)\n",
    "station_Q3_update=station_Q3_update.with_columns(station_Q3.select(5,6,7,8,9,10,11))\n",
    "station_Q3_update=station_Q3_update.with_columns(\"age\",2017-station_Q3[\"birthyear\"])"
   ]
  },
  {
   "cell_type": "markdown",
   "metadata": {},
   "source": [
    "#### Updated table for the Divvy trip in the third quarter, 2017."
   ]
  },
  {
   "cell_type": "code",
   "execution_count": 35,
   "metadata": {
    "scrolled": true
   },
   "outputs": [
    {
     "data": {
      "text/html": [
       "<table border=\"1\" class=\"dataframe\">\n",
       "    <thead>\n",
       "        <tr>\n",
       "            <th>trip_id</th> <th>start_time</th> <th>end_time</th> <th>bikeid</th> <th>tripduration</th> <th>trip_duration_min</th> <th>from_station_id</th> <th>from_station_name</th> <th>to_station_id</th> <th>to_station_name</th> <th>usertype</th> <th>gender</th> <th>birthyear</th> <th>age</th>\n",
       "        </tr>\n",
       "    </thead>\n",
       "    <tbody>\n",
       "        <tr>\n",
       "            <td>16734065</td> <td>9/30/2017 23:59:58</td> <td>10/1/2017 00:05:47</td> <td>1411  </td> <td>349         </td> <td>5.81667          </td> <td>216            </td> <td>California Ave & Division St</td> <td>259          </td> <td>California Ave & Francis Pl</td> <td>Subscriber</td> <td>Male  </td> <td>1985     </td> <td>32  </td>\n",
       "        </tr>\n",
       "        <tr>\n",
       "            <td>16734064</td> <td>9/30/2017 23:59:53</td> <td>10/1/2017 00:05:47</td> <td>3048  </td> <td>354         </td> <td>5.9              </td> <td>216            </td> <td>California Ave & Division St</td> <td>259          </td> <td>California Ave & Francis Pl</td> <td>Subscriber</td> <td>Male  </td> <td>1979     </td> <td>38  </td>\n",
       "        </tr>\n",
       "        <tr>\n",
       "            <td>16734063</td> <td>9/30/2017 23:59:06</td> <td>10/1/2017 00:02:52</td> <td>2590  </td> <td>226         </td> <td>3.76667          </td> <td>141            </td> <td>Clark St & Lincoln Ave      </td> <td>144          </td> <td>Larrabee St & Webster Ave  </td> <td>Subscriber</td> <td>Male  </td> <td>1993     </td> <td>24  </td>\n",
       "        </tr>\n",
       "    </tbody>\n",
       "</table>\n",
       "<p>... (1608267 rows omitted)</p>"
      ],
      "text/plain": [
       "<IPython.core.display.HTML object>"
      ]
     },
     "metadata": {},
     "output_type": "display_data"
    }
   ],
   "source": [
    "station_Q3_update.show(3)"
   ]
  },
  {
   "cell_type": "markdown",
   "metadata": {},
   "source": [
    "#### Updated table for the Divvy trip in the forth quarter, 2017."
   ]
  },
  {
   "cell_type": "code",
   "execution_count": 36,
   "metadata": {},
   "outputs": [],
   "source": [
    "station_Q4_update=Table()\n",
    "station_Q4_update=station_Q4_update.with_columns(station_Q4.select(0,1,2,3,4))\n",
    "station_Q4_update=station_Q4_update.with_columns(\"trip_duration_min\",station_Q4[\"tripduration\"]/60)\n",
    "station_Q4_update=station_Q4_update.with_columns(station_Q4.select(5,6,7,8,9,10,11))\n",
    "station_Q4_update=station_Q4_update.with_columns(\"age\",2017-station_Q4[\"birthyear\"])"
   ]
  },
  {
   "cell_type": "code",
   "execution_count": 37,
   "metadata": {},
   "outputs": [
    {
     "data": {
      "text/html": [
       "<table border=\"1\" class=\"dataframe\">\n",
       "    <thead>\n",
       "        <tr>\n",
       "            <th>trip_id</th> <th>start_time</th> <th>end_time</th> <th>bikeid</th> <th>tripduration</th> <th>trip_duration_min</th> <th>from_station_id</th> <th>from_station_name</th> <th>to_station_id</th> <th>to_station_name</th> <th>usertype</th> <th>gender</th> <th>birthyear</th> <th>age</th>\n",
       "        </tr>\n",
       "    </thead>\n",
       "    <tbody>\n",
       "        <tr>\n",
       "            <td>17536701</td> <td>12/31/2017 23:58</td> <td>1/1/2018 0:03</td> <td>3304  </td> <td>284         </td> <td>4.73333          </td> <td>159            </td> <td>Claremont Ave & Hirsch St          </td> <td>69           </td> <td>Damen Ave & Pierce Ave             </td> <td>Subscriber</td> <td>Male  </td> <td>1988     </td> <td>29  </td>\n",
       "        </tr>\n",
       "        <tr>\n",
       "            <td>17536700</td> <td>12/31/2017 23:54</td> <td>1/1/2018 0:18</td> <td>5975  </td> <td>1402        </td> <td>23.3667          </td> <td>145            </td> <td>Mies van der Rohe Way & Chestnut St</td> <td>145          </td> <td>Mies van der Rohe Way & Chestnut St</td> <td>Customer  </td> <td>nan   </td> <td>nan      </td> <td>nan </td>\n",
       "        </tr>\n",
       "        <tr>\n",
       "            <td>17536699</td> <td>12/31/2017 23:54</td> <td>1/1/2018 0:18</td> <td>4906  </td> <td>1441        </td> <td>24.0167          </td> <td>145            </td> <td>Mies van der Rohe Way & Chestnut St</td> <td>145          </td> <td>Mies van der Rohe Way & Chestnut St</td> <td>Customer  </td> <td>nan   </td> <td>nan      </td> <td>nan </td>\n",
       "        </tr>\n",
       "    </tbody>\n",
       "</table>\n",
       "<p>... (669236 rows omitted)</p>"
      ],
      "text/plain": [
       "<IPython.core.display.HTML object>"
      ]
     },
     "metadata": {},
     "output_type": "display_data"
    }
   ],
   "source": [
    "station_Q4_update.show(3)"
   ]
  },
  {
   "cell_type": "markdown",
   "metadata": {},
   "source": [
    "#### To examine the distribution of all trip durations, we plot the trip IDs against the durations in one scatter plot."
   ]
  },
  {
   "cell_type": "code",
   "execution_count": 38,
   "metadata": {
    "scrolled": false
   },
   "outputs": [
    {
     "data": {
      "image/png": "[encoded data removed]",
      "text/plain": [
       "<Figure size 432x288 with 1 Axes>"
      ]
     },
     "metadata": {},
     "output_type": "display_data"
    }
   ],
   "source": [
    "# scatter plot of Q3\n",
    "plots.scatter(station_Q3['trip_id'],station_Q3['tripduration']);"
   ]
  },
  {
   "cell_type": "markdown",
   "metadata": {},
   "source": [
    "#### The scatter plot of the forth quarter."
   ]
  },
  {
   "cell_type": "code",
   "execution_count": 39,
   "metadata": {
    "scrolled": false
   },
   "outputs": [
    {
     "data": {
      "image/png": "[encoded data removed]",
      "text/plain": [
       "<Figure size 432x288 with 1 Axes>"
      ]
     },
     "metadata": {},
     "output_type": "display_data"
    }
   ],
   "source": [
    "# scatter plot of Q4\n",
    "plots.scatter(station_Q4['trip_id'],station_Q4['tripduration']);"
   ]
  },
  {
   "cell_type": "markdown",
   "metadata": {},
   "source": [
    "From these two scatter plots, we observed that there is a lot of outliers above 20000 that in fact have very small probablity to happen. For instance, the trip with 80000 seconds (which equal to 22hours ) could be regarded as very random event, and could hinder our study. Therefore, we decide to consider trips withinin 20000s, and remove the rows with the trip duration that is larger than 1440 minutes."
   ]
  },
  {
   "cell_type": "markdown",
   "metadata": {},
   "source": [
    "#### The updated scatter plot of the third quarter."
   ]
  },
  {
   "cell_type": "code",
   "execution_count": 40,
   "metadata": {
    "scrolled": true
   },
   "outputs": [
    {
     "data": {
      "image/png": "[encoded data removed]",
      "text/plain": [
       "<Figure size 432x288 with 1 Axes>"
      ]
     },
     "metadata": {},
     "output_type": "display_data"
    }
   ],
   "source": [
    "plots.scatter(station_Q3_update['trip_id'],station_Q3_update['trip_duration_min']);"
   ]
  },
  {
   "cell_type": "markdown",
   "metadata": {},
   "source": [
    "#### The updated scatter plot of the forth quarter."
   ]
  },
  {
   "cell_type": "code",
   "execution_count": 41,
   "metadata": {},
   "outputs": [
    {
     "data": {
      "image/png": "[encoded data removed]",
      "text/plain": [
       "<Figure size 432x288 with 1 Axes>"
      ]
     },
     "metadata": {},
     "output_type": "display_data"
    }
   ],
   "source": [
    "plots.scatter(station_Q4_update['trip_id'],station_Q4_update['trip_duration_min']);"
   ]
  },
  {
   "cell_type": "markdown",
   "metadata": {},
   "source": [
    "#### In order to get better prediction, we excluded the trip durations that are larger than 4500/3500s to reduce the presence of outliers. \n",
    "\n",
    "After have made this change, we observed that the distribution is skewed to the right. Therefore, we would only consider the right-hand sided outliers in our analysis. We set our boundary to be two standard deviations above the mean to get a 95% percentile of our data."
   ]
  },
  {
   "cell_type": "code",
   "execution_count": 42,
   "metadata": {},
   "outputs": [],
   "source": [
    "#outlier_q3_boundary=q3_mean+2*q3_sd\n",
    "#outlier_q3_boundary\n",
    "#outlier_q4_boundary=q4_mean+2*q4_sd\n",
    "#outlier_q4_boundary\n",
    "#after estimation:\n",
    "q3_right_boundary=4274\n",
    "q4_right_boundary=3393\n",
    "station_Q3_update=station_Q3_update.where(station_Q3_update['tripduration']<=4500)\n",
    "station_Q4_update=station_Q4_update.where(station_Q4_update['tripduration']<=3500)"
   ]
  },
  {
   "cell_type": "code",
   "execution_count": 43,
   "metadata": {},
   "outputs": [
    {
     "data": {
      "text/html": [
       "<table border=\"1\" class=\"dataframe\">\n",
       "    <thead>\n",
       "        <tr>\n",
       "            <th>trip_id</th> <th>start_time</th> <th>end_time</th> <th>bikeid</th> <th>tripduration</th> <th>trip_duration_min</th> <th>from_station_id</th> <th>from_station_name</th> <th>to_station_id</th> <th>to_station_name</th> <th>usertype</th> <th>gender</th> <th>birthyear</th> <th>age</th>\n",
       "        </tr>\n",
       "    </thead>\n",
       "    <tbody>\n",
       "        <tr>\n",
       "            <td>16734065</td> <td>9/30/2017 23:59:58</td> <td>10/1/2017 00:05:47</td> <td>1411  </td> <td>349         </td> <td>5.81667          </td> <td>216            </td> <td>California Ave & Division St</td> <td>259          </td> <td>California Ave & Francis Pl    </td> <td>Subscriber</td> <td>Male  </td> <td>1985     </td> <td>32  </td>\n",
       "        </tr>\n",
       "        <tr>\n",
       "            <td>16734064</td> <td>9/30/2017 23:59:53</td> <td>10/1/2017 00:05:47</td> <td>3048  </td> <td>354         </td> <td>5.9              </td> <td>216            </td> <td>California Ave & Division St</td> <td>259          </td> <td>California Ave & Francis Pl    </td> <td>Subscriber</td> <td>Male  </td> <td>1979     </td> <td>38  </td>\n",
       "        </tr>\n",
       "        <tr>\n",
       "            <td>16734063</td> <td>9/30/2017 23:59:06</td> <td>10/1/2017 00:02:52</td> <td>2590  </td> <td>226         </td> <td>3.76667          </td> <td>141            </td> <td>Clark St & Lincoln Ave      </td> <td>144          </td> <td>Larrabee St & Webster Ave      </td> <td>Subscriber</td> <td>Male  </td> <td>1993     </td> <td>24  </td>\n",
       "        </tr>\n",
       "        <tr>\n",
       "            <td>16734062</td> <td>9/30/2017 23:58:56</td> <td>10/1/2017 00:07:37</td> <td>551   </td> <td>521         </td> <td>8.68333          </td> <td>96             </td> <td>Desplaines St & Randolph St </td> <td>217          </td> <td>Racine Ave (May St) & Fulton St</td> <td>Customer  </td> <td>nan   </td> <td>nan      </td> <td>nan </td>\n",
       "        </tr>\n",
       "        <tr>\n",
       "            <td>16734061</td> <td>9/30/2017 23:58:47</td> <td>10/1/2017 00:07:37</td> <td>1287  </td> <td>530         </td> <td>8.83333          </td> <td>96             </td> <td>Desplaines St & Randolph St </td> <td>217          </td> <td>Racine Ave (May St) & Fulton St</td> <td>Subscriber</td> <td>Female</td> <td>1994     </td> <td>23  </td>\n",
       "        </tr>\n",
       "        <tr>\n",
       "            <td>16734060</td> <td>9/30/2017 23:58:45</td> <td>10/1/2017 00:16:37</td> <td>6132  </td> <td>1072        </td> <td>17.8667          </td> <td>478            </td> <td>Rockwell St & Eastwood Ave  </td> <td>117          </td> <td>Wilton Ave & Belmont Ave       </td> <td>Subscriber</td> <td>Male  </td> <td>1980     </td> <td>37  </td>\n",
       "        </tr>\n",
       "        <tr>\n",
       "            <td>16734059</td> <td>9/30/2017 23:57:19</td> <td>10/1/2017 00:05:36</td> <td>5235  </td> <td>497         </td> <td>8.28333          </td> <td>114            </td> <td>Sheffield Ave & Waveland Ave</td> <td>296          </td> <td>Broadway & Belmont Ave         </td> <td>Subscriber</td> <td>Male  </td> <td>1988     </td> <td>29  </td>\n",
       "        </tr>\n",
       "        <tr>\n",
       "            <td>16734058</td> <td>9/30/2017 23:57:12</td> <td>10/1/2017 00:00:46</td> <td>54    </td> <td>214         </td> <td>3.56667          </td> <td>87             </td> <td>Racine Ave & Fullerton Ave  </td> <td>127          </td> <td>Lincoln Ave & Fullerton Ave    </td> <td>Subscriber</td> <td>Male  </td> <td>1977     </td> <td>40  </td>\n",
       "        </tr>\n",
       "        <tr>\n",
       "            <td>16734057</td> <td>9/30/2017 23:56:59</td> <td>10/1/2017 00:20:17</td> <td>3823  </td> <td>1398        </td> <td>23.3             </td> <td>90             </td> <td>Millennium Park             </td> <td>86           </td> <td>Eckhart Park                   </td> <td>Customer  </td> <td>nan   </td> <td>nan      </td> <td>nan </td>\n",
       "        </tr>\n",
       "        <tr>\n",
       "            <td>16734056</td> <td>9/30/2017 23:56:52</td> <td>10/1/2017 00:14:44</td> <td>5794  </td> <td>1072        </td> <td>17.8667          </td> <td>296            </td> <td>Broadway & Belmont Ave      </td> <td>268          </td> <td>Lake Shore Dr & North Blvd     </td> <td>Subscriber</td> <td>Female</td> <td>1990     </td> <td>27  </td>\n",
       "        </tr>\n",
       "    </tbody>\n",
       "</table>\n",
       "<p>... (1581280 rows omitted)</p>"
      ],
      "text/plain": [
       "trip_id  | start_time         | end_time           | bikeid | tripduration | trip_duration_min | from_station_id | from_station_name            | to_station_id | to_station_name                 | usertype   | gender | birthyear | age\n",
       "16734065 | 9/30/2017 23:59:58 | 10/1/2017 00:05:47 | 1411   | 349          | 5.81667           | 216             | California Ave & Division St | 259           | California Ave & Francis Pl     | Subscriber | Male   | 1985      | 32\n",
       "16734064 | 9/30/2017 23:59:53 | 10/1/2017 00:05:47 | 3048   | 354          | 5.9               | 216             | California Ave & Division St | 259           | California Ave & Francis Pl     | Subscriber | Male   | 1979      | 38\n",
       "16734063 | 9/30/2017 23:59:06 | 10/1/2017 00:02:52 | 2590   | 226          | 3.76667           | 141             | Clark St & Lincoln Ave       | 144           | Larrabee St & Webster Ave       | Subscriber | Male   | 1993      | 24\n",
       "16734062 | 9/30/2017 23:58:56 | 10/1/2017 00:07:37 | 551    | 521          | 8.68333           | 96              | Desplaines St & Randolph St  | 217           | Racine Ave (May St) & Fulton St | Customer   | nan    | nan       | nan\n",
       "16734061 | 9/30/2017 23:58:47 | 10/1/2017 00:07:37 | 1287   | 530          | 8.83333           | 96              | Desplaines St & Randolph St  | 217           | Racine Ave (May St) & Fulton St | Subscriber | Female | 1994      | 23\n",
       "16734060 | 9/30/2017 23:58:45 | 10/1/2017 00:16:37 | 6132   | 1072         | 17.8667           | 478             | Rockwell St & Eastwood Ave   | 117           | Wilton Ave & Belmont Ave        | Subscriber | Male   | 1980      | 37\n",
       "16734059 | 9/30/2017 23:57:19 | 10/1/2017 00:05:36 | 5235   | 497          | 8.28333           | 114             | Sheffield Ave & Waveland Ave | 296           | Broadway & Belmont Ave          | Subscriber | Male   | 1988      | 29\n",
       "16734058 | 9/30/2017 23:57:12 | 10/1/2017 00:00:46 | 54     | 214          | 3.56667           | 87              | Racine Ave & Fullerton Ave   | 127           | Lincoln Ave & Fullerton Ave     | Subscriber | Male   | 1977      | 40\n",
       "16734057 | 9/30/2017 23:56:59 | 10/1/2017 00:20:17 | 3823   | 1398         | 23.3              | 90              | Millennium Park              | 86            | Eckhart Park                    | Customer   | nan    | nan       | nan\n",
       "16734056 | 9/30/2017 23:56:52 | 10/1/2017 00:14:44 | 5794   | 1072         | 17.8667           | 296             | Broadway & Belmont Ave       | 268           | Lake Shore Dr & North Blvd      | Subscriber | Female | 1990      | 27\n",
       "... (1581280 rows omitted)"
      ]
     },
     "execution_count": 43,
     "metadata": {},
     "output_type": "execute_result"
    }
   ],
   "source": [
    "station_Q3_update"
   ]
  },
  {
   "cell_type": "code",
   "execution_count": 44,
   "metadata": {
    "scrolled": true
   },
   "outputs": [
    {
     "data": {
      "text/html": [
       "<table border=\"1\" class=\"dataframe\">\n",
       "    <thead>\n",
       "        <tr>\n",
       "            <th>trip_id</th> <th>start_time</th> <th>end_time</th> <th>bikeid</th> <th>tripduration</th> <th>trip_duration_min</th> <th>from_station_id</th> <th>from_station_name</th> <th>to_station_id</th> <th>to_station_name</th> <th>usertype</th> <th>gender</th> <th>birthyear</th> <th>age</th>\n",
       "        </tr>\n",
       "    </thead>\n",
       "    <tbody>\n",
       "        <tr>\n",
       "            <td>17536701</td> <td>12/31/2017 23:58</td> <td>1/1/2018 0:03   </td> <td>3304  </td> <td>284         </td> <td>4.73333          </td> <td>159            </td> <td>Claremont Ave & Hirsch St          </td> <td>69           </td> <td>Damen Ave & Pierce Ave             </td> <td>Subscriber</td> <td>Male  </td> <td>1988     </td> <td>29  </td>\n",
       "        </tr>\n",
       "        <tr>\n",
       "            <td>17536700</td> <td>12/31/2017 23:54</td> <td>1/1/2018 0:18   </td> <td>5975  </td> <td>1402        </td> <td>23.3667          </td> <td>145            </td> <td>Mies van der Rohe Way & Chestnut St</td> <td>145          </td> <td>Mies van der Rohe Way & Chestnut St</td> <td>Customer  </td> <td>nan   </td> <td>nan      </td> <td>nan </td>\n",
       "        </tr>\n",
       "        <tr>\n",
       "            <td>17536699</td> <td>12/31/2017 23:54</td> <td>1/1/2018 0:18   </td> <td>4906  </td> <td>1441        </td> <td>24.0167          </td> <td>145            </td> <td>Mies van der Rohe Way & Chestnut St</td> <td>145          </td> <td>Mies van der Rohe Way & Chestnut St</td> <td>Customer  </td> <td>nan   </td> <td>nan      </td> <td>nan </td>\n",
       "        </tr>\n",
       "        <tr>\n",
       "            <td>17536698</td> <td>12/31/2017 23:48</td> <td>12/31/2017 23:53</td> <td>5667  </td> <td>315         </td> <td>5.25             </td> <td>340            </td> <td>Clark St & Wrightwood Ave          </td> <td>143          </td> <td>Sedgwick St & Webster Ave          </td> <td>Subscriber</td> <td>Male  </td> <td>1963     </td> <td>54  </td>\n",
       "        </tr>\n",
       "        <tr>\n",
       "            <td>17536697</td> <td>12/31/2017 23:42</td> <td>12/31/2017 23:47</td> <td>5353  </td> <td>272         </td> <td>4.53333          </td> <td>240            </td> <td>Sheridan Rd & Irving Park Rd       </td> <td>245          </td> <td>Clarendon Ave & Junior Ter         </td> <td>Subscriber</td> <td>Male  </td> <td>1977     </td> <td>40  </td>\n",
       "        </tr>\n",
       "        <tr>\n",
       "            <td>17536696</td> <td>12/31/2017 23:41</td> <td>12/31/2017 23:51</td> <td>5840  </td> <td>589         </td> <td>9.81667          </td> <td>93             </td> <td>Sheffield Ave & Willow St          </td> <td>343          </td> <td>Racine Ave & Wrightwood Ave        </td> <td>Subscriber</td> <td>Male  </td> <td>1988     </td> <td>29  </td>\n",
       "        </tr>\n",
       "        <tr>\n",
       "            <td>17536695</td> <td>12/31/2017 23:34</td> <td>12/31/2017 23:39</td> <td>6351  </td> <td>301         </td> <td>5.01667          </td> <td>337            </td> <td>Clark St & Chicago Ave             </td> <td>182          </td> <td>Wells St & Elm St                  </td> <td>Subscriber</td> <td>Male  </td> <td>1990     </td> <td>27  </td>\n",
       "        </tr>\n",
       "        <tr>\n",
       "            <td>17536694</td> <td>12/31/2017 23:21</td> <td>12/31/2017 23:23</td> <td>2562  </td> <td>141         </td> <td>2.35             </td> <td>226            </td> <td>Racine Ave & Belmont Ave           </td> <td>117          </td> <td>Wilton Ave & Belmont Ave           </td> <td>Subscriber</td> <td>Male  </td> <td>1987     </td> <td>30  </td>\n",
       "        </tr>\n",
       "        <tr>\n",
       "            <td>17536693</td> <td>12/31/2017 23:17</td> <td>12/31/2017 23:27</td> <td>2471  </td> <td>615         </td> <td>10.25            </td> <td>49             </td> <td>Dearborn St & Monroe St            </td> <td>26           </td> <td>McClurg Ct & Illinois St           </td> <td>Subscriber</td> <td>Male  </td> <td>1981     </td> <td>36  </td>\n",
       "        </tr>\n",
       "        <tr>\n",
       "            <td>17536692</td> <td>12/31/2017 22:57</td> <td>12/31/2017 23:09</td> <td>6462  </td> <td>743         </td> <td>12.3833          </td> <td>196            </td> <td>Cityfront Plaza Dr & Pioneer Ct    </td> <td>255          </td> <td>Indiana Ave & Roosevelt Rd         </td> <td>Subscriber</td> <td>Male  </td> <td>1980     </td> <td>37  </td>\n",
       "        </tr>\n",
       "    </tbody>\n",
       "</table>\n",
       "<p>... (661436 rows omitted)</p>"
      ],
      "text/plain": [
       "trip_id  | start_time       | end_time         | bikeid | tripduration | trip_duration_min | from_station_id | from_station_name                   | to_station_id | to_station_name                     | usertype   | gender | birthyear | age\n",
       "17536701 | 12/31/2017 23:58 | 1/1/2018 0:03    | 3304   | 284          | 4.73333           | 159             | Claremont Ave & Hirsch St           | 69            | Damen Ave & Pierce Ave              | Subscriber | Male   | 1988      | 29\n",
       "17536700 | 12/31/2017 23:54 | 1/1/2018 0:18    | 5975   | 1402         | 23.3667           | 145             | Mies van der Rohe Way & Chestnut St | 145           | Mies van der Rohe Way & Chestnut St | Customer   | nan    | nan       | nan\n",
       "17536699 | 12/31/2017 23:54 | 1/1/2018 0:18    | 4906   | 1441         | 24.0167           | 145             | Mies van der Rohe Way & Chestnut St | 145           | Mies van der Rohe Way & Chestnut St | Customer   | nan    | nan       | nan\n",
       "17536698 | 12/31/2017 23:48 | 12/31/2017 23:53 | 5667   | 315          | 5.25              | 340             | Clark St & Wrightwood Ave           | 143           | Sedgwick St & Webster Ave           | Subscriber | Male   | 1963      | 54\n",
       "17536697 | 12/31/2017 23:42 | 12/31/2017 23:47 | 5353   | 272          | 4.53333           | 240             | Sheridan Rd & Irving Park Rd        | 245           | Clarendon Ave & Junior Ter          | Subscriber | Male   | 1977      | 40\n",
       "17536696 | 12/31/2017 23:41 | 12/31/2017 23:51 | 5840   | 589          | 9.81667           | 93              | Sheffield Ave & Willow St           | 343           | Racine Ave & Wrightwood Ave         | Subscriber | Male   | 1988      | 29\n",
       "17536695 | 12/31/2017 23:34 | 12/31/2017 23:39 | 6351   | 301          | 5.01667           | 337             | Clark St & Chicago Ave              | 182           | Wells St & Elm St                   | Subscriber | Male   | 1990      | 27\n",
       "17536694 | 12/31/2017 23:21 | 12/31/2017 23:23 | 2562   | 141          | 2.35              | 226             | Racine Ave & Belmont Ave            | 117           | Wilton Ave & Belmont Ave            | Subscriber | Male   | 1987      | 30\n",
       "17536693 | 12/31/2017 23:17 | 12/31/2017 23:27 | 2471   | 615          | 10.25             | 49              | Dearborn St & Monroe St             | 26            | McClurg Ct & Illinois St            | Subscriber | Male   | 1981      | 36\n",
       "17536692 | 12/31/2017 22:57 | 12/31/2017 23:09 | 6462   | 743          | 12.3833           | 196             | Cityfront Plaza Dr & Pioneer Ct     | 255           | Indiana Ave & Roosevelt Rd          | Subscriber | Male   | 1980      | 37\n",
       "... (661436 rows omitted)"
      ]
     },
     "execution_count": 44,
     "metadata": {},
     "output_type": "execute_result"
    }
   ],
   "source": [
    "station_Q4_update"
   ]
  },
  {
   "cell_type": "markdown",
   "metadata": {},
   "source": [
    "#### The following two graphs show the difference among the trip duration between the two quarters.\n",
    "\n",
    "We observed that the trip duration and frequency in the third quarter (which it is in the Fall), are both greater than in the forth quarter (in the Winter). "
   ]
  },
  {
   "cell_type": "code",
   "execution_count": 45,
   "metadata": {
    "scrolled": false
   },
   "outputs": [
    {
     "data": {
      "image/png": "[encoded data removed]",
      "text/plain": [
       "<Figure size 432x288 with 1 Axes>"
      ]
     },
     "metadata": {},
     "output_type": "display_data"
    }
   ],
   "source": [
    "#Q3-Q4 comparision.\n",
    "x=station_Q3_update['bikeid']\n",
    "y=station_Q3_update['trip_duration_min']\n",
    "a=station_Q4_update['bikeid']\n",
    "b=station_Q4_update['trip_duration_min']\n",
    "plots.hist(y,alpha=0.2)\n",
    "plots.hist(b,alpha=1)\n",
    "plots.title('difference among trip duration between two seasons');"
   ]
  },
  {
   "cell_type": "markdown",
   "metadata": {},
   "source": [
    "# 2"
   ]
  },
  {
   "cell_type": "markdown",
   "metadata": {},
   "source": [
    "#  Data Analyisis"
   ]
  },
  {
   "cell_type": "markdown",
   "metadata": {},
   "source": [
    "## Section_A"
   ]
  },
  {
   "cell_type": "markdown",
   "metadata": {},
   "source": [
    "## Statistical Analysis"
   ]
  },
  {
   "cell_type": "markdown",
   "metadata": {},
   "source": [
    "#### The mean of the Divvy trip in the third quarter, 2017."
   ]
  },
  {
   "cell_type": "code",
   "execution_count": 46,
   "metadata": {},
   "outputs": [
    {
     "data": {
      "text/plain": [
       "1044.2485067805778"
      ]
     },
     "execution_count": 46,
     "metadata": {},
     "output_type": "execute_result"
    }
   ],
   "source": [
    "q3_mean=station_Q3[\"tripduration\"].mean()\n",
    "q3_mean"
   ]
  },
  {
   "cell_type": "markdown",
   "metadata": {},
   "source": [
    "#### The mean of the Divvy trip in the forth quarter, 2017."
   ]
  },
  {
   "cell_type": "code",
   "execution_count": 47,
   "metadata": {},
   "outputs": [
    {
     "data": {
      "text/plain": [
       "779.4404988352442"
      ]
     },
     "execution_count": 47,
     "metadata": {},
     "output_type": "execute_result"
    }
   ],
   "source": [
    "q4_mean=station_Q4[\"tripduration\"].mean()\n",
    "q4_mean"
   ]
  },
  {
   "cell_type": "markdown",
   "metadata": {},
   "source": [
    "#### The minimum trip duration (in minutes) in the third quarter, 2017."
   ]
  },
  {
   "cell_type": "code",
   "execution_count": 48,
   "metadata": {},
   "outputs": [
    {
     "data": {
      "text/plain": [
       "60"
      ]
     },
     "execution_count": 48,
     "metadata": {},
     "output_type": "execute_result"
    }
   ],
   "source": [
    "q3_min=station_Q3[\"tripduration\"].min()\n",
    "q3_min"
   ]
  },
  {
   "cell_type": "markdown",
   "metadata": {},
   "source": [
    "#### The minimum trip duration (in minutes) in the forth quarter, 2017."
   ]
  },
  {
   "cell_type": "code",
   "execution_count": 49,
   "metadata": {},
   "outputs": [
    {
     "data": {
      "text/plain": [
       "60"
      ]
     },
     "execution_count": 49,
     "metadata": {},
     "output_type": "execute_result"
    }
   ],
   "source": [
    "q4_min=station_Q4[\"tripduration\"].min()\n",
    "q4_min"
   ]
  },
  {
   "cell_type": "markdown",
   "metadata": {},
   "source": [
    "#### The maximum trip duration (in minutes) in the third quarter, 2017."
   ]
  },
  {
   "cell_type": "code",
   "execution_count": 50,
   "metadata": {
    "scrolled": true
   },
   "outputs": [
    {
     "data": {
      "text/plain": [
       "86014"
      ]
     },
     "execution_count": 50,
     "metadata": {},
     "output_type": "execute_result"
    }
   ],
   "source": [
    "q3_max=station_Q3[\"tripduration\"].max()\n",
    "q3_max"
   ]
  },
  {
   "cell_type": "markdown",
   "metadata": {},
   "source": [
    "#### The maximum trip duration (in minutes) in the forth quarter, 2017."
   ]
  },
  {
   "cell_type": "code",
   "execution_count": 51,
   "metadata": {},
   "outputs": [
    {
     "data": {
      "text/plain": [
       "85466"
      ]
     },
     "execution_count": 51,
     "metadata": {},
     "output_type": "execute_result"
    }
   ],
   "source": [
    "q4_max=station_Q4[\"tripduration\"].max()\n",
    "q4_max"
   ]
  },
  {
   "cell_type": "markdown",
   "metadata": {},
   "source": [
    "#### The standard deviation of the trip duration in the third quarter, 2017."
   ]
  },
  {
   "cell_type": "code",
   "execution_count": 52,
   "metadata": {},
   "outputs": [
    {
     "data": {
      "text/plain": [
       "1614.8375306989499"
      ]
     },
     "execution_count": 52,
     "metadata": {},
     "output_type": "execute_result"
    }
   ],
   "source": [
    "q3_sd=station_Q3[\"tripduration\"].std()\n",
    "q3_sd"
   ]
  },
  {
   "cell_type": "markdown",
   "metadata": {},
   "source": [
    "#### The standard deviation of the trip duration in the forth quarter, 2017."
   ]
  },
  {
   "cell_type": "code",
   "execution_count": 53,
   "metadata": {},
   "outputs": [
    {
     "data": {
      "text/plain": [
       "1307.233208737884"
      ]
     },
     "execution_count": 53,
     "metadata": {},
     "output_type": "execute_result"
    }
   ],
   "source": [
    "q4_sd=station_Q4[\"tripduration\"].std()\n",
    "q4_sd"
   ]
  },
  {
   "cell_type": "markdown",
   "metadata": {},
   "source": [
    "#### The updated total number of trips in the third quarter, 2017."
   ]
  },
  {
   "cell_type": "code",
   "execution_count": 54,
   "metadata": {},
   "outputs": [
    {
     "data": {
      "text/plain": [
       "1581290"
      ]
     },
     "execution_count": 54,
     "metadata": {},
     "output_type": "execute_result"
    }
   ],
   "source": [
    "#the number of update row\n",
    "number_of_orginal_Q3=len(station_Q3[\"tripduration\"])\n",
    "number_of_update_Q3=len(station_Q3_update[\"tripduration\"])\n",
    "\n",
    "number_of_update_Q3"
   ]
  },
  {
   "cell_type": "markdown",
   "metadata": {},
   "source": [
    "#### The updated total number of trips in the forth quarter, 2017.¶"
   ]
  },
  {
   "cell_type": "code",
   "execution_count": 55,
   "metadata": {},
   "outputs": [
    {
     "data": {
      "text/plain": [
       "661446"
      ]
     },
     "execution_count": 55,
     "metadata": {},
     "output_type": "execute_result"
    }
   ],
   "source": [
    "number_of_orginal_Q4=len(station_Q4[\"tripduration\"])\n",
    "number_of_update_Q4=len(station_Q4_update[\"tripduration\"])\n",
    "number_of_update_Q4"
   ]
  },
  {
   "cell_type": "markdown",
   "metadata": {},
   "source": [
    "### The table below shows the statistical facts of the trip data in the third and forth quarter."
   ]
  },
  {
   "cell_type": "code",
   "execution_count": 56,
   "metadata": {
    "scrolled": true
   },
   "outputs": [
    {
     "data": {
      "text/html": [
       "<table border=\"1\" class=\"dataframe\">\n",
       "    <thead>\n",
       "        <tr>\n",
       "            <th>Seasons</th> <th>Mean</th> <th>Minimum</th> <th>Maximum</th> <th>Standard Deviation</th>\n",
       "        </tr>\n",
       "    </thead>\n",
       "    <tbody>\n",
       "        <tr>\n",
       "            <td>Q3     </td> <td>1044.25</td> <td>60     </td> <td>86014  </td> <td>1614.84           </td>\n",
       "        </tr>\n",
       "        <tr>\n",
       "            <td>Q4     </td> <td>779.44 </td> <td>60     </td> <td>85466  </td> <td>1307.23           </td>\n",
       "        </tr>\n",
       "    </tbody>\n",
       "</table>"
      ],
      "text/plain": [
       "Seasons | Mean    | Minimum | Maximum | Standard Deviation\n",
       "Q3      | 1044.25 | 60      | 86014   | 1614.84\n",
       "Q4      | 779.44  | 60      | 85466   | 1307.23"
      ]
     },
     "execution_count": 56,
     "metadata": {},
     "output_type": "execute_result"
    }
   ],
   "source": [
    "statistical_fact=Table().with_columns(\"Seasons\",make_array(\"Q3\",\"Q4\"),\n",
    "                                     \"Mean\",make_array(q3_mean,q4_mean),\n",
    "                                     \"Minimum\",make_array(q3_min,q4_min),\n",
    "                                     \"Maximum\",make_array(q3_max,q4_max),\n",
    "                                     \"Standard Deviation\",make_array(q3_sd,q4_sd))\n",
    "statistical_fact"
   ]
  },
  {
   "cell_type": "markdown",
   "metadata": {},
   "source": [
    "**Seasonality:**\n",
    "There are obvious decreases in mean and standard deviation of the trip duration from Q3 to Q4, which can be explained by the decrease in desire to bike in colder weather."
   ]
  },
  {
   "cell_type": "markdown",
   "metadata": {},
   "source": [
    "#### To find out how often the bikes are used, the vacancy ratio is introduced. To better visualize our data, we imported the files as dataframe."
   ]
  },
  {
   "cell_type": "markdown",
   "metadata": {},
   "source": [
    "**Vacancy rate** = 1 - Total seconds of trip durations of one bike / Total time of one quarter"
   ]
  },
  {
   "cell_type": "code",
   "execution_count": 57,
   "metadata": {},
   "outputs": [],
   "source": [
    "#vacancy_rate:using dataframe.\n",
    "#import file as dataframe.\n",
    "Q3=pd.read_csv(\"D:\\Lecture5\\Divvy_Trips_2017_Q3.csv\")\n",
    "Q4=pd.read_csv(\"D:\\Lecture5\\Divvy_Trips_2017_Q4.csv\")"
   ]
  },
  {
   "cell_type": "code",
   "execution_count": 58,
   "metadata": {},
   "outputs": [
    {
     "data": {
      "text/plain": [
       "0.9623537499973083"
      ]
     },
     "execution_count": 58,
     "metadata": {},
     "output_type": "execute_result"
    }
   ],
   "source": [
    "# vacancy rate by pandas for Q3\n",
    "use_rate_Q3=Q3['tripduration'].groupby(Q3['bikeid']).sum()/7776000\n",
    "vacancy_rate_Q3=1-use_rate_Q3\n",
    "vacancy_rate_Q3\n",
    "vacancy_rate_Q3.mean()"
   ]
  },
  {
   "cell_type": "code",
   "execution_count": 59,
   "metadata": {},
   "outputs": [
    {
     "data": {
      "text/plain": [
       "0.9886281908874838"
      ]
     },
     "execution_count": 59,
     "metadata": {},
     "output_type": "execute_result"
    }
   ],
   "source": [
    "# vacancy rate by pandas for Q4\n",
    "use_rate_Q4=Q4['tripduration'].groupby(Q4['bikeid']).sum()/7776000\n",
    "vacancy_rate_Q4=1-use_rate_Q4\n",
    "vacancy_rate_Q4\n",
    "vacancy_rate_Q4.mean()"
   ]
  },
  {
   "cell_type": "code",
   "execution_count": 60,
   "metadata": {
    "scrolled": false
   },
   "outputs": [
    {
     "data": {
      "text/plain": [
       "(0.6323537499973082, 0.6586281908874838)"
      ]
     },
     "execution_count": 60,
     "metadata": {},
     "output_type": "execute_result"
    }
   ],
   "source": [
    "Q4_average = sum(vacancy_rate_Q4)/len(vacancy_rate_Q4)\n",
    "Q3_average = sum(vacancy_rate_Q3)/len(vacancy_rate_Q3)\n",
    "(Q3_average-0.33,Q4_average-0.33)"
   ]
  },
  {
   "cell_type": "markdown",
   "metadata": {},
   "source": [
    "Even if we substract from the average vacancy rate 33% of the daytime (22pm - 6am), when most customers are not active, the vacancy rates in both quarters are still very high at a level of approximately 64%, entailing that Divvy bikes are not used 64% of the time. Since there are 6471 bikes in total and Chicago has a population of 2.7m (2017, US cenus bureau), we conclude that there is a great potential for Divvy bikes to expand its consumer base. "
   ]
  },
  {
   "cell_type": "markdown",
   "metadata": {},
   "source": [
    "# Section_B"
   ]
  },
  {
   "cell_type": "markdown",
   "metadata": {},
   "source": [
    "## Data Visualization"
   ]
  },
  {
   "cell_type": "markdown",
   "metadata": {},
   "source": [
    "#### The following two charts are the histogram of the trip duration (in minutes) in the third and forth quarters."
   ]
  },
  {
   "cell_type": "code",
   "execution_count": 61,
   "metadata": {
    "scrolled": false
   },
   "outputs": [
    {
     "data": {
      "text/plain": [
       "Text(0.5, 0, 'minutes')"
      ]
     },
     "execution_count": 61,
     "metadata": {},
     "output_type": "execute_result"
    },
    {
     "data": {
      "image/png": "[encoded data removed]",
      "text/plain": [
       "<Figure size 432x288 with 1 Axes>"
      ]
     },
     "metadata": {},
     "output_type": "display_data"
    }
   ],
   "source": [
    "#hist chart:\n",
    "plots.hist(station_Q3_update[\"trip_duration_min\"]);\n",
    "plots.xlabel(\"minutes\")"
   ]
  },
  {
   "cell_type": "code",
   "execution_count": 62,
   "metadata": {
    "scrolled": true
   },
   "outputs": [
    {
     "data": {
      "text/plain": [
       "Text(0.5, 0, 'minutes')"
      ]
     },
     "execution_count": 62,
     "metadata": {},
     "output_type": "execute_result"
    },
    {
     "data": {
      "image/png": "[encoded data removed]",
      "text/plain": [
       "<Figure size 432x288 with 1 Axes>"
      ]
     },
     "metadata": {},
     "output_type": "display_data"
    }
   ],
   "source": [
    "plots.hist(station_Q4_update['trip_duration_min']);\n",
    "plots.xlabel(\"minutes\")"
   ]
  },
  {
   "cell_type": "markdown",
   "metadata": {},
   "source": [
    "From the histogram in the third quarter, we observed that the riding time of most of customers is within 20 minutes, which is longer than the riding time in the forth quarter. This phenomenon happened due to the weather, that it is warmer to ride bikes in the fall than in the winter."
   ]
  },
  {
   "cell_type": "markdown",
   "metadata": {},
   "source": [
    "#### The following two charts are the histogram of the customers' age in the third and forth quarters."
   ]
  },
  {
   "cell_type": "code",
   "execution_count": 63,
   "metadata": {},
   "outputs": [
    {
     "data": {
      "image/png": "[encoded data removed]",
      "text/plain": [
       "<Figure size 432x288 with 1 Axes>"
      ]
     },
     "metadata": {},
     "output_type": "display_data"
    }
   ],
   "source": [
    "#age_histogram\n",
    "plots.hist(station_Q3_update[\"age\"],bins=np.arange(0,100,5));"
   ]
  },
  {
   "cell_type": "code",
   "execution_count": 64,
   "metadata": {
    "scrolled": true
   },
   "outputs": [
    {
     "data": {
      "image/png": "[encoded data removed]",
      "text/plain": [
       "<Figure size 432x288 with 1 Axes>"
      ]
     },
     "metadata": {},
     "output_type": "display_data"
    }
   ],
   "source": [
    "plots.hist(station_Q4_update[\"age\"],bins=np.arange(0,100,5));"
   ]
  },
  {
   "cell_type": "markdown",
   "metadata": {},
   "source": [
    "From these two histograms, we observed that the majority age group who chooses to use bike as their mean of transportation is between 25 to 40 years old. Therefore, we can conclude that the bike-sharing program is more attractive to younger workers than the senior workers, as they just enter to the workplace and have relatively low income. The senior customers may choose to ride bikes for exploring the city or doing exercises."
   ]
  },
  {
   "cell_type": "markdown",
   "metadata": {},
   "source": [
    "#### The following two charts are the histogram of the bike's usage frequency within a day in the third and forth quarters."
   ]
  },
  {
   "cell_type": "code",
   "execution_count": 65,
   "metadata": {},
   "outputs": [
    {
     "data": {
      "image/png": "[encoded data removed]",
      "text/plain": [
       "<Figure size 432x288 with 1 Axes>"
      ]
     },
     "metadata": {},
     "output_type": "display_data"
    }
   ],
   "source": [
    "#start_time_hist\n",
    "def get_hour_Q3(time):\n",
    "    return int(time[-8:-6])\n",
    "Q3_start_array=station_Q3_update.apply(get_hour_Q3,'start_time')\n",
    "station_Q3_temp2=station_Q3_update.with_columns(\"start_time_hour\",Q3_start_array)\n",
    "    \n",
    "plots.hist(station_Q3_temp2[\"start_time_hour\"],bins=np.arange(0,25,1));"
   ]
  },
  {
   "cell_type": "code",
   "execution_count": 66,
   "metadata": {
    "scrolled": true
   },
   "outputs": [
    {
     "data": {
      "image/png": "[encoded data removed]",
      "text/plain": [
       "<Figure size 432x288 with 1 Axes>"
      ]
     },
     "metadata": {},
     "output_type": "display_data"
    }
   ],
   "source": [
    "def get_hour_Q4(time):\n",
    "    if time[-5]==\"\":\n",
    "        hour=int(time[-4])\n",
    "    else:\n",
    "        hour=int(time[-5:-3])\n",
    "    return hour\n",
    "Q4_start_array=station_Q4_update.apply(get_hour_Q4,'start_time')\n",
    "station_Q4_temp=station_Q4_update.with_columns(\"start_time_hour\",Q4_start_array)\n",
    "plots.hist(station_Q4_temp[\"start_time_hour\"],bins=np.arange(0,25,1));"
   ]
  },
  {
   "cell_type": "markdown",
   "metadata": {},
   "source": [
    "From these two histograms, we observed that there are two peak time ranges in a day that bikes got used the most, which are from 7am to 9am, and from 4pm to 7pm. These two time ranges are the peak hours for people go to school and workplace. Based on this information, we should carefully consider the location of new docking stations and the number of extra bikes needed to meet the usage demand."
   ]
  },
  {
   "cell_type": "markdown",
   "metadata": {},
   "source": [
    "#### The following two charts are the pie chart of the gender of users in the third and forth quarters."
   ]
  },
  {
   "cell_type": "code",
   "execution_count": 67,
   "metadata": {
    "scrolled": false
   },
   "outputs": [
    {
     "data": {
      "image/png": "[encoded data removed]",
      "text/plain": [
       "<Figure size 432x288 with 1 Axes>"
      ]
     },
     "metadata": {},
     "output_type": "display_data"
    }
   ],
   "source": [
    "#pie chart for user type sort by gender \n",
    "#Q3\n",
    "#Data Input \n",
    "male = len(station_Q3_update.where('gender',are.equal_to('Male')).column('gender'))\n",
    "female = len(station_Q3_update.where('gender',are.equal_to('Female')).column('gender'))\n",
    "nan = len(station_Q3_update.where('gender',are.equal_to('nan')).column('gender'))\n",
    "gender_inputs_Q3 = [male,female,nan]\n",
    "#Pie Chart Building\n",
    "explode = [0.1,0.1,0.1]\n",
    "bar_labels = ['Male','Female','Non']\n",
    "pie_colors = ['yellowgreen', 'lightskyblue','gold']\n",
    "\n",
    "plots.pie(gender_inputs_Q3, labels=bar_labels, autopct='%1.1f%%',colors=pie_colors, explode=explode, shadow = True);\n",
    "\n",
    "plots.axis('equal');"
   ]
  },
  {
   "cell_type": "code",
   "execution_count": 68,
   "metadata": {
    "scrolled": true
   },
   "outputs": [
    {
     "data": {
      "image/png": "[encoded data removed]",
      "text/plain": [
       "<Figure size 432x288 with 1 Axes>"
      ]
     },
     "metadata": {},
     "output_type": "display_data"
    }
   ],
   "source": [
    "#Q4\n",
    "#Data Input \n",
    "male = len(station_Q4_update.where('gender',are.equal_to('Male')).column('gender'))\n",
    "female = len(station_Q4_update.where('gender',are.equal_to('Female')).column('gender'))\n",
    "nan = len(station_Q4_update.where('gender',are.equal_to('nan')).column('gender'))\n",
    "gender_inputs_Q4 = [male,female,nan]\n",
    "#Pie Chart Building\n",
    "explode = [0.1,0.1,0.1]\n",
    "bar_labels = ['Male','Female','Non']\n",
    "pie_colors = ['yellowgreen', 'lightskyblue','gold']\n",
    "\n",
    "plots.pie(gender_inputs_Q4, labels=bar_labels, autopct='%1.1f%%',colors=pie_colors, explode=explode, shadow = True);\n",
    "\n",
    "plots.axis('equal');"
   ]
  },
  {
   "cell_type": "markdown",
   "metadata": {},
   "source": [
    "Based on the pie charts, we can conclude that there are more male users than female users. It is a reasonable result that women were more likely to be occasional cyclists, while men were more likely to be regular cyclists. In addition, women were more concerned about safety and being able to carry daily items than men, so they may not willing to ride bike to go to the restaurant or the workplace."
   ]
  },
  {
   "cell_type": "markdown",
   "metadata": {},
   "source": [
    "#### The following two charts are the pie chart of the type of users in the third and forth quarters."
   ]
  },
  {
   "cell_type": "code",
   "execution_count": 69,
   "metadata": {},
   "outputs": [
    {
     "data": {
      "image/png": "[encoded data removed]",
      "text/plain": [
       "<Figure size 432x288 with 1 Axes>"
      ]
     },
     "metadata": {},
     "output_type": "display_data"
    }
   ],
   "source": [
    "#pie_chart by user type:\n",
    "#user_typeQ3\n",
    "#Data Input \n",
    "Subscriber = len(station_Q3_update.where('usertype',are.equal_to('Subscriber')).column('usertype'))\n",
    "Customer = len(station_Q3_update.where('usertype',are.equal_to('Customer')).column('usertype'))\n",
    "Dependent = len(station_Q3_update.where('usertype',are.equal_to('Dependent')).column('usertype'))\n",
    "user_type_Q3 = [Subscriber,Customer,Dependent]\n",
    "#Pie Chart Building\n",
    "explode = [0.1,0.1,0.1]\n",
    "bar_labels = ['Subscriber','Customer','Dependent']\n",
    "pie_colors = ['yellowgreen', 'lightskyblue','gold']\n",
    "\n",
    "plots.pie(user_type_Q3, labels=bar_labels, autopct='%1.1f%%',colors=pie_colors, explode=explode, shadow = True);\n",
    "\n",
    "plots.axis('equal');"
   ]
  },
  {
   "cell_type": "code",
   "execution_count": 70,
   "metadata": {
    "scrolled": true
   },
   "outputs": [
    {
     "data": {
      "image/png": "[encoded data removed]",
      "text/plain": [
       "<Figure size 432x288 with 1 Axes>"
      ]
     },
     "metadata": {},
     "output_type": "display_data"
    }
   ],
   "source": [
    "#User_typeQ4\n",
    "#Data Input \n",
    "Subscriber = len(station_Q4_update.where('usertype',are.equal_to('Subscriber')).column('usertype'))\n",
    "Customer = len(station_Q4_update.where('usertype',are.equal_to('Customer')).column('usertype'))\n",
    "Dependent = len(station_Q4_update.where('usertype',are.equal_to('Dependent')).column('usertype'))\n",
    "user_type_Q4 = [Subscriber,Customer,Dependent]\n",
    "#Pie Chart Building\n",
    "explode = [0.1,0.1,0.1]\n",
    "bar_labels = ['Subscriber','Customer','Dependent']\n",
    "pie_colors = ['yellowgreen', 'lightskyblue','gold']\n",
    "\n",
    "plots.pie(user_type_Q4, labels=bar_labels, autopct='%1.1f%%',colors=pie_colors, explode=explode, shadow = True);\n",
    "\n",
    "plots.axis('equal');"
   ]
  },
  {
   "cell_type": "markdown",
   "metadata": {},
   "source": [
    "From the pie charts, we observed that most of users are subscribers. The current subscribing fee is 108/year. \n",
    "These results, combined with the fact that Divvy bikes have a very high vacancy rate, suggest that there is great potential to boost revenue if Divvy invests more in marketing or lower the subscription fee to attract more local subscribers. The company can focus more on marketing strategies or finding sponsorship with more companies."
   ]
  },
  {
   "cell_type": "markdown",
   "metadata": {},
   "source": [
    "#### The number of stations in the year of 2013, 2014, 2015, 2016, and 2017."
   ]
  },
  {
   "cell_type": "code",
   "execution_count": 71,
   "metadata": {
    "scrolled": false
   },
   "outputs": [
    {
     "data": {
      "text/html": [
       "<table border=\"1\" class=\"dataframe\">\n",
       "    <thead>\n",
       "        <tr>\n",
       "            <th>id</th> <th>name</th> <th>city</th> <th>latitude</th> <th>longitude</th> <th>dpcapacity</th> <th>online_date</th> <th>Unnamed: 7</th> <th>start_year</th>\n",
       "        </tr>\n",
       "    </thead>\n",
       "    <tbody>\n",
       "        <tr>\n",
       "            <td>2   </td> <td>Buckingham Fountain</td> <td>Chicago</td> <td>41.8764 </td> <td>-87.6203 </td> <td>27        </td> <td>6/10/2013 10:43</td> <td>nan       </td> <td>2013      </td>\n",
       "        </tr>\n",
       "        <tr>\n",
       "            <td>3   </td> <td>Shedd Aquarium     </td> <td>Chicago</td> <td>41.8672 </td> <td>-87.6154 </td> <td>55        </td> <td>6/10/2013 10:44</td> <td>nan       </td> <td>2013      </td>\n",
       "        </tr>\n",
       "        <tr>\n",
       "            <td>4   </td> <td>Burnham Harbor     </td> <td>Chicago</td> <td>41.8563 </td> <td>-87.6133 </td> <td>23        </td> <td>6/10/2013 10:46</td> <td>nan       </td> <td>2013      </td>\n",
       "        </tr>\n",
       "    </tbody>\n",
       "</table>\n",
       "<p>... (582 rows omitted)</p>"
      ],
      "text/plain": [
       "<IPython.core.display.HTML object>"
      ]
     },
     "metadata": {},
     "output_type": "display_data"
    },
    {
     "data": {
      "image/png": "[encoded data removed]",
      "text/plain": [
       "<Figure size 432x288 with 1 Axes>"
      ]
     },
     "metadata": {},
     "output_type": "display_data"
    }
   ],
   "source": [
    "#station in each year.\n",
    "stations = Table.read_table('Divvy_Stations_2017_Q3Q4.csv')\n",
    "def get_year(time):\n",
    "    if time[-6]==\" \":\n",
    "        year=time[-10:-6]\n",
    "    else:\n",
    "        year=time[-9:-5]\n",
    "    return year\n",
    "year_array=stations.apply(get_year,'online_date')\n",
    "stations_temp=stations.with_columns(\"start_year\",year_array)\n",
    "stations_temp.show(3)\n",
    "\n",
    "plots.bar(stations_temp['start_year'],stations_temp['id']);"
   ]
  },
  {
   "cell_type": "markdown",
   "metadata": {},
   "source": [
    "From the histogram, we see that the number of stations has doubled from 2014 to 2017. As the number of our users increases every year, we have to get a better prediction and estimation for next year on the number of stations and its location to minimize the company's operational cost."
   ]
  },
  {
   "cell_type": "code",
   "execution_count": 72,
   "metadata": {
    "scrolled": true
   },
   "outputs": [
    {
     "data": {
      "text/html": [
       "<div style=\"width:100%;\"><div style=\"position:relative;width:100%;height:0;padding-bottom:60%;\"><span style=\"color:#565656\">Make this Notebook Trusted to load map: File -> Trust Notebook</span><iframe src=\"about:blank\" style=\"position:absolute;width:100%;height:100%;left:0;top:0;border:none !important;\" data-html=%3C%21DOCTYPE%20html%3E%0A%3Chead%3E%20%20%20%20%0A%20%20%20%20%3Cmeta%20http-equiv%3D%22content-type%22%20content%3D%22text/html%3B%20charset%3DUTF-8%22%20/%3E%0A%20%20%20%20%0A%20%20%20%20%20%20%20%20%3Cscript%3E%0A%20%20%20%20%20%20%20%20%20%20%20%20L_NO_TOUCH%20%3D%20false%3B%0A%20%20%20%20%20%20%20%20%20%20%20%20L_DISABLE_3D%20%3D%20false%3B%0A%20%20%20%20%20%20%20%20%3C/script%3E%0A%20%20%20%20%0A%20%20%20%20%3Cstyle%3Ehtml%2C%20body%20%7Bwidth%3A%20100%25%3Bheight%3A%20100%25%3Bmargin%3A%200%3Bpadding%3A%200%3B%7D%3C/style%3E%0A%20%20%20%20%3Cstyle%3E%23map%20%7Bposition%3Aabsolute%3Btop%3A0%3Bbottom%3A0%3Bright%3A0%3Bleft%3A0%3B%7D%3C/style%3E%0A%20%20%20%20%3Cscript%20src%3D%22https%3A//cdn.jsdelivr.net/npm/leaflet%401.6.0/dist/leaflet.js%22%3E%3C/script%3E%0A%20%20%20%20%3Cscript%20src%3D%22https%3A//code.jquery.com/jquery-1.12.4.min.js%22%3E%3C/script%3E%0A%20%20%20%20%3Cscript%20src%3D%22https%3A//maxcdn.bootstrapcdn.com/bootstrap/3.2.0/js/bootstrap.min.js%22%3E%3C/script%3E%0A%20%20%20%20%3Cscript%20src%3D%22https%3A//cdnjs.cloudflare.com/ajax/libs/Leaflet.awesome-markers/2.0.2/leaflet.awesome-markers.js%22%3E%3C/script%3E%0A%20%20%20%20%3Clink%20rel%3D%22stylesheet%22%20href%3D%22https%3A//cdn.jsdelivr.net/npm/leaflet%401.6.0/dist/leaflet.css%22/%3E%0A%20%20%20%20%3Clink%20rel%3D%22stylesheet%22%20href%3D%22https%3A//maxcdn.bootstrapcdn.com/bootstrap/3.2.0/css/bootstrap.min.css%22/%3E%0A%20%20%20%20%3Clink%20rel%3D%22stylesheet%22%20href%3D%22https%3A//maxcdn.bootstrapcdn.com/bootstrap/3.2.0/css/bootstrap-theme.min.css%22/%3E%0A%20%20%20%20%3Clink%20rel%3D%22stylesheet%22%20href%3D%22https%3A//maxcdn.bootstrapcdn.com/font-awesome/4.6.3/css/font-awesome.min.css%22/%3E%0A%20%20%20%20%3Clink%20rel%3D%22stylesheet%22%20href%3D%22https%3A//cdnjs.cloudflare.com/ajax/libs/Leaflet.awesome-markers/2.0.2/leaflet.awesome-markers.css%22/%3E%0A%20%20%20%20%3Clink%20rel%3D%22stylesheet%22%20href%3D%22https%3A//cdn.jsdelivr.net/gh/python-visualization/folium/folium/templates/leaflet.awesome.rotate.min.css%22/%3E%0A%20%20%20%20%0A%20%20%20%20%20%20%20%20%20%20%20%20%3Cmeta%20name%3D%22viewport%22%20content%3D%22width%3Ddevice-width%2C%0A%20%20%20%20%20%20%20%20%20%20%20%20%20%20%20%20initial-scale%3D1.0%2C%20maximum-scale%3D1.0%2C%20user-scalable%3Dno%22%20/%3E%0A%20%20%20%20%20%20%20%20%20%20%20%20%3Cstyle%3E%0A%20%20%20%20%20%20%20%20%20%20%20%20%20%20%20%20%23map_a006bc97c20d49e4a0c8ff8076fee408%20%7B%0A%20%20%20%20%20%20%20%20%20%20%20%20%20%20%20%20%20%20%20%20position%3A%20relative%3B%0A%20%20%20%20%20%20%20%20%20%20%20%20%20%20%20%20%20%20%20%20width%3A%20100.0%25%3B%0A%20%20%20%20%20%20%20%20%20%20%20%20%20%20%20%20%20%20%20%20height%3A%20100.0%25%3B%0A%20%20%20%20%20%20%20%20%20%20%20%20%20%20%20%20%20%20%20%20left%3A%200.0%25%3B%0A%20%20%20%20%20%20%20%20%20%20%20%20%20%20%20%20%20%20%20%20top%3A%200.0%25%3B%0A%20%20%20%20%20%20%20%20%20%20%20%20%20%20%20%20%7D%0A%20%20%20%20%20%20%20%20%20%20%20%20%3C/style%3E%0A%20%20%20%20%20%20%20%20%0A%20%20%20%20%3Cscript%20src%3D%22https%3A//cdn.jsdelivr.net/gh/python-visualization/folium%40master/folium/templates/leaflet_heat.min.js%22%3E%3C/script%3E%0A%3C/head%3E%0A%3Cbody%3E%20%20%20%20%0A%20%20%20%20%0A%20%20%20%20%20%20%20%20%20%20%20%20%3Cdiv%20class%3D%22folium-map%22%20id%3D%22map_a006bc97c20d49e4a0c8ff8076fee408%22%20%3E%3C/div%3E%0A%20%20%20%20%20%20%20%20%0A%3C/body%3E%0A%3Cscript%3E%20%20%20%20%0A%20%20%20%20%0A%20%20%20%20%20%20%20%20%20%20%20%20var%20map_a006bc97c20d49e4a0c8ff8076fee408%20%3D%20L.map%28%0A%20%20%20%20%20%20%20%20%20%20%20%20%20%20%20%20%22map_a006bc97c20d49e4a0c8ff8076fee408%22%2C%0A%20%20%20%20%20%20%20%20%20%20%20%20%20%20%20%20%7B%0A%20%20%20%20%20%20%20%20%20%20%20%20%20%20%20%20%20%20%20%20center%3A%20%5B41.881832%2C%20-87.623177%5D%2C%0A%20%20%20%20%20%20%20%20%20%20%20%20%20%20%20%20%20%20%20%20crs%3A%20L.CRS.EPSG3857%2C%0A%20%20%20%20%20%20%20%20%20%20%20%20%20%20%20%20%20%20%20%20zoom%3A%2012%2C%0A%20%20%20%20%20%20%20%20%20%20%20%20%20%20%20%20%20%20%20%20zoomControl%3A%20true%2C%0A%20%20%20%20%20%20%20%20%20%20%20%20%20%20%20%20%20%20%20%20preferCanvas%3A%20false%2C%0A%20%20%20%20%20%20%20%20%20%20%20%20%20%20%20%20%7D%0A%20%20%20%20%20%20%20%20%20%20%20%20%29%3B%0A%0A%20%20%20%20%20%20%20%20%20%20%20%20%0A%0A%20%20%20%20%20%20%20%20%0A%20%20%20%20%0A%20%20%20%20%20%20%20%20%20%20%20%20var%20tile_layer_d941ddf26d774cec9cbf58e5bafba38b%20%3D%20L.tileLayer%28%0A%20%20%20%20%20%20%20%20%20%20%20%20%20%20%20%20%22https%3A//stamen-tiles-%7Bs%7D.a.ssl.fastly.net/toner/%7Bz%7D/%7Bx%7D/%7By%7D.png%22%2C%0A%20%20%20%20%20%20%20%20%20%20%20%20%20%20%20%20%7B%22attribution%22%3A%20%22Map%20tiles%20by%20%5Cu003ca%20href%3D%5C%22http%3A//stamen.com%5C%22%5Cu003eStamen%20Design%5Cu003c/a%5Cu003e%2C%20under%20%5Cu003ca%20href%3D%5C%22http%3A//creativecommons.org/licenses/by/3.0%5C%22%5Cu003eCC%20BY%203.0%5Cu003c/a%5Cu003e.%20Data%20by%20%5Cu0026copy%3B%20%5Cu003ca%20href%3D%5C%22http%3A//openstreetmap.org%5C%22%5Cu003eOpenStreetMap%5Cu003c/a%5Cu003e%2C%20under%20%5Cu003ca%20href%3D%5C%22http%3A//www.openstreetmap.org/copyright%5C%22%5Cu003eODbL%5Cu003c/a%5Cu003e.%22%2C%20%22detectRetina%22%3A%20false%2C%20%22maxNativeZoom%22%3A%2018%2C%20%22maxZoom%22%3A%2018%2C%20%22minZoom%22%3A%200%2C%20%22noWrap%22%3A%20false%2C%20%22opacity%22%3A%201%2C%20%22subdomains%22%3A%20%22abc%22%2C%20%22tms%22%3A%20false%7D%0A%20%20%20%20%20%20%20%20%20%20%20%20%29.addTo%28map_a006bc97c20d49e4a0c8ff8076fee408%29%3B%0A%20%20%20%20%20%20%20%20%0A%20%20%20%20%0A%20%20%20%20%20%20%20%20%20%20%20%20var%20heat_map_eed3f9fd561c4def88b2c3748d7594c9%20%3D%20L.heatLayer%28%0A%20%20%20%20%20%20%20%20%20%20%20%20%20%20%20%20%5B%5B41.876393%2C%20-87.620328%2C%200.8375%5D%2C%20%5B41.86722596%2C%20-87.61535539%2C%201.5864%5D%2C%20%5B41.856268%2C%20-87.613348%2C%201.126%5D%2C%20%5B41.874053%2C%20-87.627716%2C%200.309%5D%2C%20%5B41.885041%2C%20-87.612794%2C%201.2785%5D%2C%20%5B41.88634906%2C%20-87.61751655%2C%200.5112%5D%2C%20%5B41.82879202%2C%20-87.68060446%2C%200.0294%5D%2C%20%5B41.76663824%2C%20-87.57645011%2C%200.0136%5D%2C%20%5B41.76640946%2C%20-87.56568757%2C%200.0432%5D%2C%20%5B41.932418%2C%20-87.652705%2C%200.5277%5D%2C%20%5B41.858086%2C%20-87.651073%2C%200.1334%5D%2C%20%5B41.858166%2C%20-87.656495%2C%200.1664%5D%2C%20%5B41.910337%2C%20-87.670072%2C%200.2998%5D%2C%20%5B41.903119%2C%20-87.673935%2C%200.2991%5D%2C%20%5B41.883132%2C%20-87.637321%2C%200.6226%5D%2C%20%5B41.869417%2C%20-87.660996%2C%200.4561%5D%2C%20%5B41.910522%2C%20-87.653106%2C%200.3956%5D%2C%20%5B41.87772613%2C%20-87.65478743%2C%200.3866%5D%2C%20%5B41.8694821%2C%20-87.6554864%2C%200.4803%5D%2C%20%5B41.902924%2C%20-87.637715%2C%200.1726%5D%2C%20%5B41.89186%2C%20-87.62062%2C%200.8752%5D%2C%20%5B41.89766%2C%20-87.62351%2C%200.5844%5D%2C%20%5B41.890359%2C%20-87.617532%2C%201.2355%5D%2C%20%5B41.91021%2C%20-87.6435%2C%200.192%5D%2C%20%5B41.91468%2C%20-87.64332%2C%200.2232%5D%2C%20%5B41.90068%2C%20-87.6626%2C%200.3242%5D%2C%20%5B41.899643%2C%20-87.6677%2C%200.2131%5D%2C%20%5B41.896776%2C%20-87.635633%2C%200.5685%5D%2C%20%5B41.87464%2C%20-87.65703%2C%200.2752%5D%2C%20%5B41.877181%2C%20-87.627844%2C%200.5175%5D%2C%20%5B41.92675599%2C%20-87.63442878%2C%200.4001%5D%2C%20%5B41.892278%2C%20-87.612043%2C%205.211%5D%2C%20%5B41.87770796%2C%20-87.63532114%2C%200.8018%5D%2C%20%5B41.87935636%2C%20-87.62979104%2C%200.5182%5D%2C%20%5B41.88602083%2C%20-87.63087606%2C%200.6507%5D%2C%20%5B41.87947235%2C%20-87.62568861%2C%200.4318%5D%2C%20%5B41.87934437%2C%20-87.63198522%2C%200.6216%5D%2C%20%5B41.87207763%2C%20-87.62954377%2C%200.4972%5D%2C%20%5B41.852619%2C%20-87.626488%2C%200.1148%5D%2C%20%5B41.88389277%2C%20-87.62464914%2C%201.447%5D%2C%20%5B41.8847302%2C%20-87.62773357%2C%200.6766%5D%2C%20%5B41.876243%2C%20-87.624426%2C%200.4654%5D%2C%20%5B41.89993001%2C%20-87.63443007%2C%200.2996%5D%2C%20%5B41.889187%2C%20-87.627754%2C%200.7893%5D%2C%20%5B41.897764%2C%20-87.642884%2C%200.7712%5D%2C%20%5B41.88131982%2C%20-87.62952092%2C%200.702%5D%2C%20%5B41.87593267%2C%20-87.63058454%2C%200.4178%5D%2C%20%5B41.88457623%2C%20-87.63188991%2C%200.6121%5D%2C%20%5B41.886024%2C%20-87.624117%2C%200.8314%5D%2C%20%5B41.894882%2C%20-87.632326%2C%200.6763%5D%2C%20%5B41.89636246%2C%20-87.65406127%2C%200.3424%5D%2C%20%5B41.867324%2C%20-87.648625%2C%200.1943%5D%2C%20%5B41.88871604%2C%20-87.64444785%2C%200.781%5D%2C%20%5B41.86711778%2C%20-87.64108796%2C%200.3073%5D%2C%20%5B41.916017%2C%20-87.668879%2C%200.682%5D%2C%20%5B41.867227%2C%20-87.625961%2C%200.8983%5D%2C%20%5B41.91057803%2C%20-87.64942193%2C%200.4877%5D%2C%20%5B41.907655%2C%20-87.672552%2C%200.4455%5D%2C%20%5B41.85137517%2C%20-87.61883465%2C%200.291%5D%2C%20%5B41.885637%2C%20-87.641823%2C%200.8233%5D%2C%20%5B41.92560188%2C%20-87.65370804%2C%200.5778%5D%2C%20%5B41.875885%2C%20-87.640795%2C%200.3125%5D%2C%20%5B41.90939601%2C%20-87.67769193%2C%200.7741%5D%2C%20%5B41.88548331%2C%20-87.65230486%2C%200.6144%5D%2C%20%5B41.860384%2C%20-87.625813%2C%200.3647%5D%2C%20%5B41.880422%2C%20-87.642746%2C%200.3436%5D%2C%20%5B41.893882%2C%20-87.641711%2C%200.7761%5D%2C%20%5B41.877245%2C%20-87.639366%2C%200.5432%5D%2C%20%5B41.880958%2C%20-87.616743%2C%202.6507%5D%2C%20%5B41.882242%2C%20-87.641066%2C%201.5967%5D%2C%20%5B41.880419%2C%20-87.655519%2C%200.4069%5D%2C%20%5B41.884241%2C%20-87.629634%2C%201.3472%5D%2C%20%5B41.891578%2C%20-87.648384%2C%200.5579%5D%2C%20%5B41.90096039%2C%20-87.62377664%2C%202.0673%5D%2C%20%5B41.89637337%2C%20-87.66098386%2C%200.2416%5D%2C%20%5B41.92556258%2C%20-87.65840426%2C%200.311%5D%2C%20%5B41.884069%2C%20-87.656853%2C%200.2358%5D%2C%20%5B41.87500913%2C%20-87.63310582%2C%200.4705%5D%2C%20%5B41.8810317%2C%20-87.62408432%2C%201.626%5D%2C%20%5B41.88338%2C%20-87.64117%2C%201.7171%5D%2C%20%5B41.894556%2C%20-87.653449%2C%200.24%5D%2C%20%5B41.913688%2C%20-87.652855%2C%200.3491%5D%2C%20%5B41.918306%2C%20-87.636282%2C%201.102%5D%2C%20%5B41.77870057%2C%20-87.58678762%2C%200.0147%5D%2C%20%5B41.88461619%2C%20-87.64457058%2C%200.4284%5D%2C%20%5B41.865312%2C%20-87.617867%2C%200.6952%5D%2C%20%5B41.882664%2C%20-87.63253%2C%200.5558%5D%2C%20%5B41.89257%2C%20-87.614492%2C%200.8132%5D%2C%20%5B41.888243%2C%20-87.63639%2C%201.2377%5D%2C%20%5B41.78101637%2C%20-87.57611976%2C%200.0512%5D%2C%20%5B41.7734585%2C%20-87.58533974%2C%200.0087%5D%2C%20%5B41.87146652%2C%20-87.64094913%2C%200.0784%5D%2C%20%5B41.897448%2C%20-87.628722%2C%200.5095%5D%2C%20%5B41.878287%2C%20-87.643909%2C%200.3823%5D%2C%20%5B41.87184%2C%20-87.64664%2C%200.4328%5D%2C%20%5B41.874754%2C%20-87.649807%2C%200.2274%5D%2C%20%5B41.893992%2C%20-87.629318%2C%201.1209%5D%2C%20%5B41.894666%2C%20-87.638437%2C%200.3994%5D%2C%20%5B41.883668%2C%20-87.64867%2C%200.5922%5D%2C%20%5B41.91844%2C%20-87.65222%2C%200.5797%5D%2C%20%5B41.949399%2C%20-87.654529%2C%200.6453%5D%2C%20%5B41.936266%2C%20-87.652662%2C%200.4761%5D%2C%20%5B41.91552%2C%20-87.687022%2C%200.3168%5D%2C%20%5B41.94018%2C%20-87.65304%2C%200.7552%5D%2C%20%5B41.911386%2C%20-87.638677%2C%200.5519%5D%2C%20%5B41.88541%2C%20-87.66732%2C%200.177%5D%2C%20%5B41.853605%2C%20-87.631886%2C%200.2463%5D%2C%20%5B41.802562%2C%20-87.590368%2C%200.1272%5D%2C%20%5B41.87501%2C%20-87.67328%2C%200.0872%5D%2C%20%5B41.922695%2C%20-87.697153%2C%200.4094%5D%2C%20%5B41.855048%2C%20-87.675726%2C%200.0565%5D%2C%20%5B41.890173%2C%20-87.626185%2C%200.5498%5D%2C%20%5B41.911974%2C%20-87.631942%2C%200.557%5D%2C%20%5B41.925905%2C%20-87.64926%2C%200.459%5D%2C%20%5B41.895769%2C%20-87.67722%2C%200.3638%5D%2C%20%5B41.857556%2C%20-87.661535%2C%200.2089%5D%2C%20%5B41.903266%2C%20-87.678435%2C%200.4049%5D%2C%20%5B41.939365%2C%20-87.668385%2C%200.2735%5D%2C%20%5B41.849237%2C%20-87.631715%2C%200.0486%5D%2C%20%5B41.88917683%2C%20-87.63850577%2C%201.288%5D%2C%20%5B41.877749%2C%20-87.649633%2C%200.56%5D%2C%20%5B41.85378%2C%20-87.64665%2C%200.0651%5D%2C%20%5B41.865054%2C%20-87.656959%2C%200.0418%5D%2C%20%5B41.862378%2C%20-87.651062%2C%200.171%5D%2C%20%5B41.904613%2C%20-87.640552%2C%200.2563%5D%2C%20%5B41.898969%2C%20-87.629912%2C%200.739%5D%2C%20%5B41.915689%2C%20-87.6346%2C%200.9541%5D%2C%20%5B41.894503%2C%20-87.617854%2C%200.6825%5D%2C%20%5B41.922167%2C%20-87.638888%2C%200.5208%5D%2C%20%5B41.921822%2C%20-87.64414%2C%200.5377%5D%2C%20%5B41.89858665%2C%20-87.62191523%2C%200.8184%5D%2C%20%5B41.877945%2C%20-87.662007%2C%200.176%5D%2C%20%5B41.845687%2C%20-87.622481%2C%200.1201%5D%2C%20%5B41.834734%2C%20-87.625813%2C%200.3644%5D%2C%20%5B41.8349%2C%20-87.61793%2C%200.2137%5D%2C%20%5B41.838556%2C%20-87.608218%2C%200.5236%5D%2C%20%5B41.932225%2C%20-87.658617%2C%200.3129%5D%2C%20%5B41.935733%2C%20-87.663576%2C%200.4753%5D%2C%20%5B41.93949%2C%20-87.66378%2C%200.2278%5D%2C%20%5B41.93649682%2C%20-87.64753866%2C%200.4988%5D%2C%20%5B41.936669%2C%20-87.636794%2C%200.6805%5D%2C%20%5B41.912616%2C%20-87.681391%2C%200.3954%5D%2C%20%5B41.907781%2C%20-87.685854%2C%200.1257%5D%2C%20%5B41.910535%2C%20-87.689556%2C%200.1427%5D%2C%20%5B41.89576475%2C%20-87.62590803%2C%200.5631%5D%2C%20%5B41.93588%2C%20-87.67842%2C%200.1541%5D%2C%20%5B41.931931%2C%20-87.677856%2C%200.1274%5D%2C%20%5B41.885837%2C%20-87.6355%2C%200.5171%5D%2C%20%5B41.95078%2C%20-87.659172%2C%200.309%5D%2C%20%5B41.92883%2C%20-87.668507%2C%200.1536%5D%2C%20%5B41.8492%2C%20-87.67564%2C%200.0155%5D%2C%20%5B41.864059%2C%20-87.623727%2C%200.3992%5D%2C%20%5B41.874255%2C%20-87.639573%2C%200.139%5D%2C%20%5B41.85795%2C%20-87.640826%2C%200.1133%5D%2C%20%5B41.855136%2C%20-87.654127%2C%200.0748%5D%2C%20%5B41.9023087%2C%20-87.62769053%2C%200.5642%5D%2C%20%5B41.89691%2C%20-87.621743%2C%200.6463%5D%2C%20%5B41.882091%2C%20-87.639833%2C%201.2005%5D%2C%20%5B41.872596%2C%20-87.633502%2C%200.3096%5D%2C%20%5B41.902973%2C%20-87.63128%2C%200.9633%5D%2C%20%5B41.926277%2C%20-87.630834%2C%202.6251%5D%2C%20%5B41.856594%2C%20-87.627542%2C%200.1333%5D%2C%20%5B41.82256%2C%20-87.61615%2C%200.0252%5D%2C%20%5B41.906866%2C%20-87.626217%2C%200.3576%5D%2C%20%5B41.890762%2C%20-87.631697%2C%201.1159%5D%2C%20%5B41.903222%2C%20-87.634324%2C%200.5238%5D%2C%20%5B41.899113%2C%20-87.677212%2C%200.2983%5D%2C%20%5B41.83104%2C%20-87.62688%2C%200.1828%5D%2C%20%5B41.917741%2C%20-87.691392%2C%200.0931%5D%2C%20%5B41.891795%2C%20-87.658751%2C%200.2526%5D%2C%20%5B41.92533%2C%20-87.6658%2C%200.227%5D%2C%20%5B41.928773%2C%20-87.663913%2C%200.234%5D%2C%20%5B41.880884%2C%20-87.639525%2C%200.5506%5D%2C%20%5B41.879255%2C%20-87.639904%2C%202.0231%5D%2C%20%5B41.841707%2C%20-87.626938%2C%200.0177%5D%2C%20%5B41.886875%2C%20-87.62603%2C%200.5858%5D%2C%20%5B41.884728%2C%20-87.619521%2C%201.5456%5D%2C%20%5B41.890573%2C%20-87.622072%2C%200.5218%5D%2C%20%5B41.882134%2C%20-87.625125%2C%200.4526%5D%2C%20%5B41.881892%2C%20-87.648789%2C%200.588%5D%2C%20%5B41.891466%2C%20-87.626761%2C%200.6619%5D%2C%20%5B41.809851%2C%20-87.616279%2C%200.0236%5D%2C%20%5B41.82168%2C%20-87.6216%2C%200.0168%5D%2C%20%5B41.857499%2C%20-87.646277%2C%200.1181%5D%2C%20%5B41.854109%2C%20-87.685838%2C%200.0512%5D%2C%20%5B41.794853%2C%20-87.618691%2C%200.0691%5D%2C%20%5B41.857901%2C%20-87.668745%2C%200.1245%5D%2C%20%5B41.847203%2C%20-87.646795%2C%200.0703%5D%2C%20%5B41.84358%2C%20-87.645368%2C%200.057%5D%2C%20%5B41.85381%2C%20-87.665897%2C%200.0682%5D%2C%20%5B41.849527%2C%20-87.640591%2C%200.0468%5D%2C%20%5B41.90345%2C%20-87.667747%2C%200.6246%5D%2C%20%5B41.894448%2C%20-87.622663%2C%200.8698%5D%2C%20%5B41.892154%2C%20-87.636928%2C%200.5112%5D%2C%20%5B41.910153%2C%20-87.68229%2C%200.2257%5D%2C%20%5B41.89122%2C%20-87.67686%2C%200.2159%5D%2C%20%5B41.88137%2C%20-87.67493%2C%200.0985%5D%2C%20%5B41.903029%2C%20-87.697474%2C%200.0948%5D%2C%20%5B41.886926%2C%20-87.656919%2C%200.2349%5D%2C%20%5B41.856802%2C%20-87.633879%2C%200.0653%5D%2C%20%5B41.916027%2C%20-87.677411%2C%200.4329%5D%2C%20%5B41.93262%2C%20-87.642385%2C%200.617%5D%2C%20%5B41.920195%2C%20-87.693033%2C%200.1122%5D%2C%20%5B41.918216%2C%20-87.656936%2C%200.364%5D%2C%20%5B41.913778%2C%20-87.64884%2C%200.2594%5D%2C%20%5B41.919936%2C%20-87.64883%2C%200.3482%5D%2C%20%5B41.939743%2C%20-87.658865%2C%200.3367%5D%2C%20%5B41.94815%2C%20-87.66394%2C%200.4197%5D%2C%20%5B41.9406%2C%20-87.6785%2C%200.1304%5D%2C%20%5B41.943739%2C%20-87.66402%2C%200.4876%5D%2C%20%5B41.94334%2C%20-87.67097%2C%200.3484%5D%2C%20%5B41.96167%2C%20-87.65464%2C%200.3694%5D%2C%20%5B41.949275%2C%20-87.646303%2C%200.5481%5D%2C%20%5B41.883004%2C%20-87.651148%2C%200.3392%5D%2C%20%5B41.961588%2C%20-87.666036%2C%200.188%5D%2C%20%5B41.905664%2C%20-87.638517%2C%200.1011%5D%2C%20%5B41.842052%2C%20-87.617%2C%200.4461%5D%2C%20%5B41.961615%2C%20-87.674365%2C%200.1469%5D%2C%20%5B41.966555%2C%20-87.688487%2C%200.2267%5D%2C%20%5B41.954245%2C%20-87.654406%2C%200.4988%5D%2C%20%5B41.871737%2C%20-87.65103%2C%200.6561%5D%2C%20%5B41.967094%2C%20-87.679028%2C%200.1743%5D%2C%20%5B41.962391%2C%20-87.684146%2C%200.1861%5D%2C%20%5B41.95469%2C%20-87.67393%2C%200.2086%5D%2C%20%5B41.961004%2C%20-87.649603%2C%200.2697%5D%2C%20%5B41.956061%2C%20-87.668869%2C%200.1075%5D%2C%20%5B41.795212%2C%20-87.580715%2C%200.3354%5D%2C%20%5B41.795264%2C%20-87.596471%2C%200.1149%5D%2C%20%5B41.963982%2C%20-87.638181%2C%200.8423%5D%2C%20%5B41.936083%2C%20-87.669807%2C%200.1483%5D%2C%20%5B41.967968%2C%20-87.650001%2C%200.1835%5D%2C%20%5B41.809835%2C%20-87.599383%2C%200.0509%5D%2C%20%5B41.968812%2C%20-87.657659%2C%200.2037%5D%2C%20%5B41.954383%2C%20-87.648043%2C%200.4635%5D%2C%20%5B41.867888%2C%20-87.623041%2C%201.1197%5D%2C%20%5B41.952833%2C%20-87.649993%2C%200.2713%5D%2C%20%5B41.948797%2C%20-87.675278%2C%200.155%5D%2C%20%5B41.930584%2C%20-87.685126%2C%200.1941%5D%2C%20%5B41.918121%2C%20-87.696972%2C%200.1437%5D%2C%20%5B41.929567%2C%20-87.707857%2C%200.383%5D%2C%20%5B41.871514%2C%20-87.669886%2C%200.2209%5D%2C%20%5B41.827059%2C%20-87.64572%2C%200.02%5D%2C%20%5B41.836208%2C%20-87.613533%2C%200.1326%5D%2C%20%5B41.886835%2C%20-87.62232%2C%200.51%5D%2C%20%5B41.822985%2C%20-87.6071%2C%200.0621%5D%2C%20%5B41.809443%2C%20-87.591875%2C%200.1342%5D%2C%20%5B41.911722%2C%20-87.626804%2C%202.6342%5D%2C%20%5B41.75866967%2C%20-87.58688287%2C%200.008%5D%2C%20%5B41.816499%2C%20-87.606582%2C%200.02%5D%2C%20%5B41.838842%2C%20-87.621857%2C%200.196%5D%2C%20%5B41.857813%2C%20-87.62455%2C%200.3868%5D%2C%20%5B41.861267%2C%20-87.656625%2C%200.0895%5D%2C%20%5B41.865234%2C%20-87.666507%2C%200.0909%5D%2C%20%5B41.91044%2C%20-87.6972%2C%200.117%5D%2C%20%5B41.891072%2C%20-87.666611%2C%200.1573%5D%2C%20%5B41.830629%2C%20-87.64129%2C%200.0487%5D%2C%20%5B41.830661%2C%20-87.647172%2C%200.0675%5D%2C%20%5B41.8378%2C%20-87.65114%2C%200.0682%5D%2C%20%5B41.84847%2C%20-87.685109%2C%200.0186%5D%2C%20%5B41.864883%2C%20-87.647071%2C%200.2873%5D%2C%20%5B41.87817%2C%20-87.631985%2C%200.659%5D%2C%20%5B41.87785%2C%20-87.62408%2C%200.7926%5D%2C%20%5B41.889587%2C%20-87.671956%2C%200.1515%5D%2C%20%5B41.878724%2C%20-87.634793%2C%200.4327%5D%2C%20%5B41.880317%2C%20-87.635185%2C%201.4429%5D%2C%20%5B41.918084%2C%20-87.643749%2C%200.2778%5D%2C%20%5B41.912133%2C%20-87.634656%2C%200.9901%5D%2C%20%5B41.921525%2C%20-87.707322%2C%200.1404%5D%2C%20%5B41.906724%2C%20-87.63483%2C%200.5762%5D%2C%20%5B41.957081%2C%20-87.664199%2C%200.1179%5D%2C%20%5B41.965221%2C%20-87.658139%2C%200.1702%5D%2C%20%5B41.978353%2C%20-87.659753%2C%200.2173%5D%2C%20%5B41.973815%2C%20-87.65966%2C%200.1515%5D%2C%20%5B41.940106%2C%20-87.645451%2C%200.4795%5D%2C%20%5B41.961507%2C%20-87.671387%2C%200.1082%5D%2C%20%5B41.955927%2C%20-87.679259%2C%200.1876%5D%2C%20%5B41.94367%2C%20-87.64895%2C%200.4528%5D%2C%20%5B41.937725%2C%20-87.644095%2C%200.7139%5D%2C%20%5B41.907993%2C%20-87.631501%2C%200.5839%5D%2C%20%5B41.928712%2C%20-87.653833%2C%200.3295%5D%2C%20%5B41.945529%2C%20-87.646439%2C%200.4594%5D%2C%20%5B41.949074%2C%20-87.648636%2C%200.358%5D%2C%20%5B41.902893%2C%20-87.687275%2C%200.1885%5D%2C%20%5B41.958494%2C%20-87.654966%2C%200.2256%5D%2C%20%5B41.920771%2C%20-87.663712%2C%200.2723%5D%2C%20%5B41.943403%2C%20-87.679618%2C%200.1519%5D%2C%20%5B41.917805%2C%20-87.682437%2C%200.1811%5D%2C%20%5B41.920082%2C%20-87.677855%2C%200.1705%5D%2C%20%5B41.968885%2C%20-87.684001%2C%200.1132%5D%2C%20%5B41.957879%2C%20-87.649519%2C%200.325%5D%2C%20%5B41.925858%2C%20-87.638973%2C%200.6511%5D%2C%20%5B41.957921%2C%20-87.673567%2C%200.1684%5D%2C%20%5B41.912919%2C%20-87.664169%2C%200.1647%5D%2C%20%5B41.96325%2C%20-87.679258%2C%200.1037%5D%2C%20%5B41.869154%2C%20-87.671045%2C%200.2409%5D%2C%20%5B41.954177%2C%20-87.664358%2C%200.2209%5D%2C%20%5B41.932595%2C%20-87.665939%2C%200.1525%5D%2C%20%5B41.872187%2C%20-87.661501%2C%200.5658%5D%2C%20%5B41.870769%2C%20-87.625734%2C%200.4716%5D%2C%20%5B41.799568%2C%20-87.594747%2C%200.2391%5D%2C%20%5B41.969517%2C%20-87.654691%2C%200.1745%5D%2C%20%5B41.93132%2C%20-87.638742%2C%200.4054%5D%2C%20%5B41.973345%2C%20-87.667682%2C%200.2309%5D%2C%20%5B41.967096%2C%20-87.667429%2C%200.1701%5D%2C%20%5B41.92154%2C%20-87.653818%2C%200.4522%5D%2C%20%5B41.788746%2C%20-87.601334%2C%200.1638%5D%2C%20%5B41.932684%2C%20-87.63625%2C%200.6076%5D%2C%20%5B41.946176%2C%20-87.673308%2C%200.1062%5D%2C%20%5B41.908537%2C%20-87.648627%2C%200.5086%5D%2C%20%5B41.933666%2C%20-87.648959%2C%200.4221%5D%2C%20%5B41.907066%2C%20-87.667252%2C%200.2728%5D%2C%20%5B41.940775%2C%20-87.639192%2C%200.819%5D%2C%20%5B41.831379%2C%20-87.618034%2C%200.0779%5D%2C%20%5B41.809855%2C%20-87.606755%2C%200.0429%5D%2C%20%5B41.896544%2C%20-87.630931%2C%200.4797%5D%2C%20%5B41.857611%2C%20-87.619407%2C%200.3639%5D%2C%20%5B41.838198%2C%20-87.645143%2C%200.1399%5D%2C%20%5B41.929546%2C%20-87.643118%2C%200.7132%5D%2C%20%5B41.866095%2C%20-87.607267%2C%201.2318%5D%2C%20%5B41.871262%2C%20-87.673688%2C%200.3362%5D%2C%20%5B41.928887%2C%20-87.658971%2C%200.2151%5D%2C%20%5B41.96909%2C%20-87.674237%2C%200.4882%5D%2C%20%5B41.793242%2C%20-87.587782%2C%200.1406%5D%2C%20%5B41.88283%2C%20-87.661206%2C%200.3035%5D%2C%20%5B41.950687%2C%20-87.6687%2C%200.1779%5D%2C%20%5B41.854016%2C%20-87.695445%2C%200.0239%5D%2C%20%5B41.929143%2C%20-87.649077%2C%200.4135%5D%2C%20%5B41.895966%2C%20-87.667747%2C%200.2966%5D%2C%20%5B41.803038%2C%20-87.606615%2C%200.032%5D%2C%20%5B41.77351755%2C%20-87.57714283%2C%200.0204%5D%2C%20%5B42.01256012%2C%20-87.67436712%2C%200.0174%5D%2C%20%5B42.01058656%2C%20-87.66241209%2C%200.0837%5D%2C%20%5B41.773643%2C%20-87.567514%2C%200.0338%5D%2C%20%5B41.76649294%2C%20-87.58646088%2C%200.0096%5D%2C%20%5B41.90348607%2C%20-87.64335349%2C%200.43%5D%2C%20%5B41.90021949%2C%20-87.64298547%2C%200.336%5D%2C%20%5B41.89936844%2C%20-87.64847988%2C%200.1007%5D%2C%20%5B41.84163254%2C%20-87.65743495%2C%200.0373%5D%2C%20%5B41.83069611%2C%20-87.65597591%2C%200.0308%5D%2C%20%5B41.83920868%2C%20-87.66560986%2C%200.019%5D%2C%20%5B41.83010465%2C%20-87.67029831%2C%200.0055%5D%2C%20%5B41.85418425%2C%20-87.61915374%2C%200.1691%5D%2C%20%5B41.8954653%2C%20-87.70612788%2C%200.026%5D%2C%20%5B41.89841769%2C%20-87.68659602%2C%200.2073%5D%2C%20%5B41.889727%2C%20-87.70103%2C%200.0216%5D%2C%20%5B41.88949182%2C%20-87.68821936%2C%200.1729%5D%2C%20%5B41.88460329%2C%20-87.70630374%2C%200.0378%5D%2C%20%5B41.88445396%2C%20-87.69629814%2C%200.037%5D%2C%20%5B41.87978771%2C%20-87.68611281%2C%200.0647%5D%2C%20%5B41.87474885%2C%20-87.68644528%2C%200.074%5D%2C%20%5B41.874293%2C%20-87.667284%2C%200.1817%5D%2C%20%5B41.80183164%2C%20-87.6452139%2C%200.002%5D%2C%20%5B41.794982%2C%20-87.633124%2C%200.0147%5D%2C%20%5B41.79292965%2C%20-87.64499006%2C%200.0089%5D%2C%20%5B41.77938114%2C%20-87.64462081%2C%200.0099%5D%2C%20%5B41.78007963%2C%20-87.62974631%2C%200.0064%5D%2C%20%5B41.76906172%2C%20-87.64461358%2C%200.0035%5D%2C%20%5B41.76929309%2C%20-87.62819593%2C%200.0012%5D%2C%20%5B41.76550801%2C%20-87.61691793%2C%200.0006%5D%2C%20%5B41.870816%2C%20-87.631246%2C%200.1788%5D%2C%20%5B41.75712007%2C%20-87.57583936%2C%200.0081%5D%2C%20%5B41.758768%2C%20-87.56644%2C%200.0055%5D%2C%20%5B41.75874584%2C%20-87.56011478%2C%200.0051%5D%2C%20%5B41.75787145%2C%20-87.54938625%2C%200.0071%5D%2C%20%5B41.76218896%2C%20-87.55927465%2C%200.0105%5D%2C%20%5B41.76571904%2C%20-87.60495971%2C%200.0048%5D%2C%20%5B41.842733%2C%20-87.635491%2C%200.0626%5D%2C%20%5B41.838464%2C%20-87.635406%2C%200.0915%5D%2C%20%5B41.83452989%2C%20-87.63182298%2C%200.0651%5D%2C%20%5B41.830777%2C%20-87.632504%2C%200.0797%5D%2C%20%5B41.83127424%2C%20-87.60879919%2C%200.146%5D%2C%20%5B41.82301524%2C%20-87.62656802%2C%200.0039%5D%2C%20%5B41.819102%2C%20-87.643278%2C%200.0089%5D%2C%20%5B41.81620768%2C%20-87.63481935%2C%200.0008%5D%2C%20%5B41.81665889%2C%20-87.61941246%2C%200.0162%5D%2C%20%5B41.80813391%2C%20-87.64561655%2C%200.0142%5D%2C%20%5B41.80931771%2C%20-87.63344929%2C%200.0106%5D%2C%20%5B41.81409271%2C%20-87.59700515%2C%200.0347%5D%2C%20%5B41.870257%2C%20-87.639474%2C%200.2777%5D%2C%20%5B41.80229465%2C%20-87.61805358%2C%200.0185%5D%2C%20%5B41.805772%2C%20-87.592464%2C%200.0302%5D%2C%20%5B41.802406%2C%20-87.586924%2C%200.2324%5D%2C%20%5B41.79933626%2C%20-87.60095811%2C%200.1304%5D%2C%20%5B41.79949429%2C%20-87.5864499%2C%200.1607%5D%2C%20%5B41.79430062%2C%20-87.60144977%2C%200.1905%5D%2C%20%5B41.79342946%2C%20-87.61585326%2C%200.0104%5D%2C%20%5B41.79156801%2C%20-87.60785218%2C%200.0436%5D%2C%20%5B41.791478%2C%20-87.599861%2C%200.314%5D%2C%20%5B41.79172821%2C%20-87.58394501%2C%200.1867%5D%2C%20%5B41.78794281%2C%20-87.58831517%2C%200.064%5D%2C%20%5B41.78509715%2C%20-87.60107276%2C%200.11%5D%2C%20%5B41.78059901%2C%20-87.60611239%2C%200.0269%5D%2C%20%5B41.78040565%2C%20-87.59141599%2C%200.0181%5D%2C%20%5B41.77372095%2C%20-87.60563486%2C%200.009%5D%2C%20%5B41.78008064%2C%20-87.61594286%2C%200.0035%5D%2C%20%5B41.78414169%2C%20-87.61330783%2C%200.0055%5D%2C%20%5B42.009074%2C%20-87.67419%2C%200.1153%5D%2C%20%5B41.87359967%2C%20-87.70487075%2C%200.0092%5D%2C%20%5B41.86650148%2C%20-87.68469707%2C%200.1163%5D%2C%20%5B41.86649278%2C%20-87.70649618%2C%200.0104%5D%2C%20%5B41.866624%2C%20-87.694521%2C%200.0205%5D%2C%20%5B41.861894%2C%20-87.693511%2C%200.0216%5D%2C%20%5B41.85420431%2C%20-87.71540584%2C%200.0073%5D%2C%20%5B41.85353363%2C%20-87.70507303%2C%200.0102%5D%2C%20%5B41.84988195%2C%20-87.71700039%2C%200.0019%5D%2C%20%5B41.84819094%2C%20-87.70541375%2C%200.0036%5D%2C%20%5B41.84910969%2C%20-87.69513981%2C%200.0254%5D%2C%20%5B41.84456685%2C%20-87.71591031%2C%200.008%5D%2C%20%5B41.84447501%2C%20-87.70201301%2C%200.0055%5D%2C%20%5B41.84404003%2C%20-87.69529592%2C%200.0083%5D%2C%20%5B41.84151771%2C%20-87.68513144%2C%200.0066%5D%2C%20%5B42.00797192%2C%20-87.66550239%2C%200.1501%5D%2C%20%5B42.00454962%2C%20-87.68066615%2C%200.0273%5D%2C%20%5B42.00445063%2C%20-87.6724024%2C%200.0588%5D%2C%20%5B42.001785%2C%20-87.688829%2C%200.0228%5D%2C%20%5B42.00104378%2C%20-87.66119824%2C%200.1549%5D%2C%20%5B41.99416137%2C%20-87.68943828%2C%200.0282%5D%2C%20%5B41.99925182%2C%20-87.67137734%2C%200.0642%5D%2C%20%5B41.99477969%2C%20-87.66028453%2C%200.195%5D%2C%20%5B41.99023603%2C%20-87.69336964%2C%200.0169%5D%2C%20%5B41.991178%2C%20-87.683593%2C%200.0231%5D%2C%20%5B41.99089375%2C%20-87.6695834%2C%200.0898%5D%2C%20%5B41.98974251%2C%20-87.66014062%2C%200.1584%5D%2C%20%5B41.9840367%2C%20-87.65231047%2C%200.6199%5D%2C%20%5B41.983593%2C%20-87.669154%2C%200.1768%5D%2C%20%5B41.98404461%2C%20-87.66027383%2C%200.1745%5D%2C%20%5B41.97977022%2C%20-87.67581473%2C%200.092%5D%2C%20%5B41.97799665%2C%20-87.6680471%2C%200.261%5D%2C%20%5B41.9756148%2C%20-87.67945904%2C%200.1375%5D%2C%20%5B41.9716%2C%20-87.650154%2C%200.2241%5D%2C%20%5B42.01213228%2C%20-87.68291264%2C%200.0206%5D%2C%20%5B42.0085944%2C%20-87.69049224%2C%200.0297%5D%2C%20%5B41.98366471%2C%20-87.69642256%2C%200.0227%5D%2C%20%5B41.98039423%2C%20-87.71611496%2C%200.03%5D%2C%20%5B41.975672%2C%20-87.709261%2C%200.0275%5D%2C%20%5B41.97563273%2C%20-87.70141944%2C%200.0726%5D%2C%20%5B41.9749113%2C%20-87.69250256%2C%200.056%5D%2C%20%5B41.96835449%2C%20-87.71183067%2C%200.0513%5D%2C%20%5B41.968987%2C%20-87.696027%2C%200.0598%5D%2C%20%5B41.96668636%2C%20-87.70805198%2C%200.0491%5D%2C%20%5B41.96631753%2C%20-87.70108268%2C%200.0406%5D%2C%20%5B41.96590014%2C%20-87.69363849%2C%200.0849%5D%2C%20%5B41.96115408%2C%20-87.71656907%2C%200.0594%5D%2C%20%5B41.961041%2C%20-87.705866%2C%200.0449%5D%2C%20%5B41.961068%2C%20-87.695439%2C%200.0442%5D%2C%20%5B41.96152593%2C%20-87.69116504%2C%200.0816%5D%2C%20%5B41.953393%2C%20-87.732002%2C%200.0584%5D%2C%20%5B41.95400484%2C%20-87.71912818%2C%200.048%5D%2C%20%5B41.95358618%2C%20-87.7093108%2C%200.0453%5D%2C%20%5B41.95434085%2C%20-87.68607962%2C%200.0817%5D%2C%20%5B41.95216219%2C%20-87.69805111%2C%200.0479%5D%2C%20%5B41.94563644%2C%20-87.72773681%2C%200.0162%5D%2C%20%5B41.947326%2C%20-87.717582%2C%200.0527%5D%2C%20%5B41.94524357%2C%20-87.7066499%2C%200.0801%5D%2C%20%5B41.94663583%2C%20-87.69461476%2C%200.0795%5D%2C%20%5B41.946655%2C%20-87.683359%2C%200.0903%5D%2C%20%5B41.942916%2C%20-87.685801%2C%200.13%5D%2C%20%5B41.98239708%2C%20-87.70892252%2C%200.0217%5D%2C%20%5B41.96110802%2C%20-87.7289701%2C%200.0323%5D%2C%20%5B41.939408%2C%20-87.723574%2C%200.0358%5D%2C%20%5B41.939398%2C%20-87.711561%2C%200.0676%5D%2C%20%5B41.93842879%2C%20-87.69800776%2C%200.0806%5D%2C%20%5B41.93058537%2C%20-87.72377736%2C%200.0602%5D%2C%20%5B41.93533728%2C%20-87.71688929%2C%200.0444%5D%2C%20%5B41.93190197%2C%20-87.70119513%2C%200.0918%5D%2C%20%5B41.92669%2C%20-87.697668%2C%200.1134%5D%2C%20%5B41.92439882%2C%20-87.71544104%2C%200.0895%5D%2C%20%5B41.92463247%2C%20-87.68930701%2C%200.1312%5D%2C%20%5B41.92409085%2C%20-87.67646007%2C%200.0923%5D%2C%20%5B41.91718375%2C%20-87.71035665%2C%200.1594%5D%2C%20%5B41.91751339%2C%20-87.70180896%2C%200.2031%5D%2C%20%5B41.90965688%2C%20-87.71663195%2C%200.0481%5D%2C%20%5B41.9097693%2C%20-87.70528049%2C%200.0697%5D%2C%20%5B41.90270659%2C%20-87.70921957%2C%200.0397%5D%2C%20%5B41.91402671%2C%20-87.70512646%2C%200.1904%5D%2C%20%5B42.019276%2C%20-87.68452%2C%200.0372%5D%2C%20%5B42.019159%2C%20-87.673573%2C%200.0779%5D%2C%20%5B42.015963%2C%20-87.675005%2C%200.0389%5D%2C%20%5B41.885502%2C%20-87.716866%2C%200.033%5D%2C%20%5B42.016977%2C%20-87.677725%2C%200.0112%5D%2C%20%5B42.015962%2C%20-87.66857%2C%200.1038%5D%2C%20%5B42.019537%2C%20-87.669563%2C%200.0336%5D%2C%20%5B42.021019%2C%20-87.665086%2C%200.096%5D%2C%20%5B41.894887%2C%20-87.774704%2C%200.0056%5D%2C%20%5B42.012701%2C%20-87.666058%2C%200.038%5D%2C%20%5B42.012342%2C%20-87.688243%2C%200.0158%5D%2C%20%5B42.018901%2C%20-87.690048%2C%200.0176%5D%2C%20%5B41.885409%2C%20-87.726491%2C%200.0058%5D%2C%20%5B41.886841%2C%20-87.745261%2C%200.0045%5D%2C%20%5B41.887832%2C%20-87.755527%2C%200.004%5D%2C%20%5B41.887664%2C%20-87.765469%2C%200.0048%5D%2C%20%5B41.887919%2C%20-87.774446%2C%200.0113%5D%2C%20%5B41.875679%2C%20-87.71547%2C%200.0073%5D%2C%20%5B41.880827%2C%20-87.726279%2C%200.0059%5D%2C%20%5B41.874325%2C%20-87.725704%2C%200.0045%5D%2C%20%5B41.885928%2C%20-87.73541%2C%200.0063%5D%2C%20%5B41.880708%2C%20-87.741018%2C%200.0015%5D%2C%20%5B41.872131%2C%20-87.746619%2C%200.0004%5D%2C%20%5B41.877613%2C%20-87.745405%2C%200.0021%5D%2C%20%5B41.880207%2C%20-87.755337%2C%200.0033%5D%2C%20%5B41.872993%2C%20-87.764499%2C%200.0035%5D%2C%20%5B41.880121%2C%20-87.763238%2C%200.0043%5D%2C%20%5B41.875806%2C%20-87.755285%2C%200.0057%5D%2C%20%5B41.880281%2C%20-87.774453%2C%200.0007%5D%2C%20%5B41.877917%2C%20-87.735737%2C%200.0034%5D%2C%20%5B41.823192%2C%20-87.676597%2C%200.008%5D%2C%20%5B41.823465%2C%20-87.665577%2C%200.008%5D%2C%20%5B41.823613%2C%20-87.650931%2C%200.0018%5D%2C%20%5B41.813996%2C%20-87.666589%2C%200.0013%5D%2C%20%5B41.894958%2C%20-87.764902%2C%200.0011%5D%2C%20%5B41.808227%2C%20-87.67718%2C%200.0057%5D%2C%20%5B41.80887%2C%20-87.66454%2C%200.0124%5D%2C%20%5B41.80839%2C%20-87.656526%2C%200.0057%5D%2C%20%5B41.800908%2C%20-87.674684%2C%200.0006%5D%2C%20%5B41.803023%2C%20-87.664699%2C%200.002%5D%2C%20%5B41.799659%2C%20-87.657195%2C%200.0004%5D%2C%20%5B41.794087%2C%20-87.675478%2C%200.0003%5D%2C%20%5B41.792822%2C%20-87.664429%2C%200.0006%5D%2C%20%5B41.794228%2C%20-87.655073%2C%200.0017%5D%2C%20%5B41.786833%2C%20-87.666215%2C%200.0007%5D%2C%20%5B41.78602%2C%20-87.674167%2C%200.0023%5D%2C%20%5B41.783189%2C%20-87.654372%2C%200.0003%5D%2C%20%5B41.779374%2C%20-87.664843%2C%200.0036%5D%2C%20%5B41.775393%2C%20-87.654308%2C%200.0004%5D%2C%20%5B41.774074%2C%20-87.663815%2C%200.0001%5D%2C%20%5B41.768726%2C%20-87.664069%2C%200.0012%5D%2C%20%5B41.768938%2C%20-87.652934%2C%200.0006%5D%2C%20%5B41.763462%2C%20-87.637297%2C%200.0007%5D%2C%20%5B41.75916%2C%20-87.595751%2C%200.0007%5D%2C%20%5B41.758308%2C%20-87.606685%2C%200.0067%5D%2C%20%5B41.758361%2C%20-87.614138%2C%200.0092%5D%2C%20%5B41.756971%2C%20-87.624621%2C%200.0063%5D%2C%20%5B41.750794%2C%20-87.624424%2C%200.0127%5D%2C%20%5B41.751345%2C%20-87.612568%2C%200.0065%5D%2C%20%5B41.753174%2C%20-87.605026%2C%200.007%5D%2C%20%5B41.751294%2C%20-87.597552%2C%200.0062%5D%2C%20%5B41.751173%2C%20-87.585337%2C%200.0045%5D%2C%20%5B41.751785%2C%20-87.578496%2C%200.0049%5D%2C%20%5B41.75182%2C%20-87.565211%2C%200.0096%5D%2C%20%5B41.751731%2C%20-87.552812%2C%200.0212%5D%2C%20%5B41.746559%2C%20-87.586005%2C%200.002%5D%2C%20%5B41.744123%2C%20-87.599034%2C%200.0016%5D%2C%20%5B41.744053%2C%20-87.604786%2C%200.0052%5D%2C%20%5B41.743116%2C%20-87.6148%2C%200.0018%5D%2C%20%5B41.743316%2C%20-87.622849%2C%200.0026%5D%2C%20%5B41.743921%2C%20-87.575225%2C%200.0011%5D%2C%20%5B41.954468%2C%20-87.749594%2C%200.017%5D%2C%20%5B41.953733%2C%20-87.740569%2C%200.0241%5D%2C%20%5B41.948818%2C%20-87.74002%2C%200.0184%5D%2C%20%5B41.960631%2C%20-87.745359%2C%200.0195%5D%2C%20%5B41.787539%2C%20-87.644874%2C%200.001%5D%2C%20%5B41.805661%2C%20-87.683392%2C%200.0067%5D%2C%20%5B41.736646%2C%20-87.622634%2C%200.0019%5D%2C%20%5B42.048214%2C%20-87.683485%2C%200.2025%5D%2C%20%5B42.032562%2C%20-87.679101%2C%200.1287%5D%2C%20%5B42.025784%2C%20-87.684107%2C%200.0215%5D%2C%20%5B42.039742%2C%20-87.699413%2C%200.0176%5D%2C%20%5B42.048308%2C%20-87.698224%2C%200.0271%5D%2C%20%5B42.063598%2C%20-87.69873%2C%200.0447%5D%2C%20%5B42.064313%2C%20-87.686152%2C%200.04%5D%2C%20%5B42.050491%2C%20-87.677821%2C%200.1027%5D%2C%20%5B42.058239%2C%20-87.677432%2C%200.1048%5D%2C%20%5B42.052939%2C%20-87.673447%2C%200.122%5D%2C%20%5B41.924361%2C%20-87.727752%2C%200.03%5D%2C%20%5B41.898203%2C%20-87.637536%2C%200.208%5D%2C%20%5B41.900363%2C%20-87.696704%2C%200.0966%5D%2C%20%5B41.872773%2C%20-87.623981%2C%200.7174%5D%2C%20%5B41.876268%2C%20-87.629155%2C%200.1128%5D%2C%20%5B42.041691%2C%20-87.680687%2C%200.0373%5D%5D%2C%0A%20%20%20%20%20%20%20%20%20%20%20%20%20%20%20%20%7B%22blur%22%3A%2015%2C%20%22maxZoom%22%3A%2018%2C%20%22minOpacity%22%3A%200.5%2C%20%22radius%22%3A%2025%7D%0A%20%20%20%20%20%20%20%20%20%20%20%20%29.addTo%28map_a006bc97c20d49e4a0c8ff8076fee408%29%3B%0A%20%20%20%20%20%20%20%20%0A%3C/script%3E onload=\"this.contentDocument.open();this.contentDocument.write(    decodeURIComponent(this.getAttribute('data-html')));this.contentDocument.close();\" allowfullscreen webkitallowfullscreen mozallowfullscreen></iframe></div></div>"
      ],
      "text/plain": [
       "<folium.folium.Map at 0x22615a8ff10>"
      ]
     },
     "execution_count": 72,
     "metadata": {},
     "output_type": "execute_result"
    }
   ],
   "source": [
    "#Heat Map of Stations:\n",
    "station_Q3 =Table.read_table('Divvy_Trips_2017_Q3.csv')\n",
    "starts = station_Q3.group('from_station_id').sort(1, descending = True)\n",
    "# Building Data Source Table\n",
    "starts = station_Q3.group('from_station_id').sort(1, descending = True)\n",
    "station_starts = stations.join('id',starts,'from_station_id' )\n",
    "station_starts_simple = station_starts.select('latitude','longitude','count')\n",
    "\n",
    "# Building Heat Map\n",
    "list_data = []\n",
    "for i in np.arange(569):\n",
    "    lat = station_starts_simple.row(i)[0]\n",
    "    long = station_starts_simple.row(i)[1]\n",
    "    weight = float(station_starts_simple.row(i)[2]) / 10000\n",
    "    list_data.append([lat,long,weight])\n",
    "from folium.plugins import HeatMap\n",
    "\n",
    "m = folium.Map([41.881832, -87.623177], tiles='stamentoner', zoom_start=12)\n",
    "\n",
    "HeatMap(list_data,\n",
    "       ).add_to(m)\n",
    "\n",
    "m"
   ]
  },
  {
   "cell_type": "markdown",
   "metadata": {},
   "source": [
    "From the heat map, the top destinations (in the red area) are the Streeter Drive and Illinois Street station, which are near to the Navy Pier; Clinton St and Washington Blvd, which are near to the Ogilvie Transportation Center; and Canal St and Adams St, which are near to the Union Station. Therefore, we could consider to install more docks and stations in these areas."
   ]
  },
  {
   "cell_type": "markdown",
   "metadata": {},
   "source": [
    "# Asymmetry of demand: "
   ]
  },
  {
   "cell_type": "code",
   "execution_count": 130,
   "metadata": {
    "scrolled": true
   },
   "outputs": [
    {
     "data": {
      "image/png": "[encoded data removed]",
      "text/plain": [
       "<Figure size 432x288 with 1 Axes>"
      ]
     },
     "metadata": {},
     "output_type": "display_data"
    }
   ],
   "source": [
    "stations=Table.read_table(\"Divvy_Stations_2017_Q3Q4.csv\")\n",
    "station_list_full=stations['id'].tolist()\n",
    "A=[]\n",
    "for i in station_list_full:\n",
    "    A.append(Q3_df['trip_id'][Q3_df['from_station_id']==i].count())\n",
    "Q3_as={'id':station_list_full,'counts':A}\n",
    "Q3_count_df=pd.DataFrame(Q3_as)\n",
    "sns.histplot(x='id',y='counts',data=Q3_count_df);"
   ]
  },
  {
   "cell_type": "markdown",
   "metadata": {},
   "source": [
    "### By counting all the times that each station serves as the start station and plotting them in one chart, it can be easily observed that different stations have different levels of demand. The asymmetry of demand requires manual bike reposition. This need will later be incorporated in the linear model. "
   ]
  },
  {
   "cell_type": "markdown",
   "metadata": {},
   "source": [
    "# Section_C"
   ]
  },
  {
   "cell_type": "markdown",
   "metadata": {},
   "source": [
    "## Findings"
   ]
  },
  {
   "cell_type": "markdown",
   "metadata": {},
   "source": [
    "#### In order to efficiently boost our company’s potential revenue, we want to find some useful information on what we need to improve. \n",
    "\n",
    "- While our main target group is the subscriber, which takes 89% of our total customers, the passengers use much fewer of our product, only taking about 11%. Based on the results, our bike’s vacancy rate is too high to max our profit, only developing 2% of bike availability. \n",
    "- In addition, the bike by population percentage is relatively small compared to other big cities, making it hard to meet people’s demand."
   ]
  },
  {
   "cell_type": "markdown",
   "metadata": {},
   "source": [
    "#### Therefore, we will consider the following aspects: \n",
    "\n",
    "- We want to attract more subscribers, while we can decrease the member fee so more people will join our program. \n",
    "- We can perform marketing strategies to increase the visibility of our service and increase the usage of our bikes.\n",
    "- We can also add more variation of membership to meet different people’s use demand, and find some sponsorship to expand our service range."
   ]
  },
  {
   "cell_type": "markdown",
   "metadata": {},
   "source": [
    "# 3\n",
    "# Linear Program Models\n"
   ]
  },
  {
   "cell_type": "markdown",
   "metadata": {},
   "source": [
    "## STEP_1: Assumptions"
   ]
  },
  {
   "cell_type": "markdown",
   "metadata": {},
   "source": [
    "### 1. Outliers"
   ]
  },
  {
   "cell_type": "markdown",
   "metadata": {},
   "source": [
    "We remove the trips that has duration above 1440(a day) minutes. The bikes with trips above 1440 mins may encounter in stealing or other accidents that we don't need to consider. The trip with duration_time above 1440 only occupy about 10% of the overall data, so removing them does not analyze the problem (case)."
   ]
  },
  {
   "cell_type": "markdown",
   "metadata": {},
   "source": [
    "### 2. Station Popularity"
   ]
  },
  {
   "cell_type": "code",
   "execution_count": 77,
   "metadata": {},
   "outputs": [
    {
     "name": "stdout",
     "output_type": "stream",
     "text": [
      "Total number of stations is:  585\n",
      "Total number of docks is: 10216\n",
      "Average number of docks is: 17\n",
      "Two stations in the dataset have a capacity of 0 dock, which may be caused by system error.\n"
     ]
    }
   ],
   "source": [
    "stations=Table.read_table(\"Divvy_Stations_2017_Q3Q4.csv\")\n",
    "\n",
    "# Total Number of Stations\n",
    "print('Total number of stations is: ',stations.num_rows)\n",
    "\n",
    "# Calculating sum of docks\n",
    "total = sum(stations.column('dpcapacity'))\n",
    "print('Total number of docks is:',total)\n",
    "\n",
    "# Calculating average of dock capacity\n",
    "ave= round(sum(stations.column('dpcapacity'))/len(stations.column('dpcapacity')))\n",
    "print('Average number of docks is:',ave)\n",
    "\n",
    "print('Two stations in the dataset have a capacity of 0 dock, which may be caused by system error.')"
   ]
  },
  {
   "cell_type": "code",
   "execution_count": 78,
   "metadata": {},
   "outputs": [
    {
     "data": {
      "text/html": [
       "<table border=\"1\" class=\"dataframe\">\n",
       "    <thead>\n",
       "        <tr>\n",
       "            <th>id</th> <th>name</th> <th>city</th> <th>latitude</th> <th>longitude</th> <th>dpcapacity</th> <th>online_date</th> <th>Unnamed: 7</th>\n",
       "        </tr>\n",
       "    </thead>\n",
       "    <tbody>\n",
       "        <tr>\n",
       "            <td>581 </td> <td>Commercial Ave & 83rd St</td> <td>Chicago</td> <td>41.7446 </td> <td>-87.5512 </td> <td>0         </td> <td>5/27/2016 11:33</td> <td>nan       </td>\n",
       "        </tr>\n",
       "        <tr>\n",
       "            <td>582 </td> <td>Phillips Ave & 83rd St  </td> <td>Chicago</td> <td>41.7447 </td> <td>-87.5661 </td> <td>0         </td> <td>5/27/2016 11:34</td> <td>nan       </td>\n",
       "        </tr>\n",
       "    </tbody>\n",
       "</table>\n",
       "<p>... (583 rows omitted)</p>"
      ],
      "text/plain": [
       "<IPython.core.display.HTML object>"
      ]
     },
     "metadata": {},
     "output_type": "display_data"
    }
   ],
   "source": [
    "stations.sort('dpcapacity').show(2)"
   ]
  },
  {
   "cell_type": "code",
   "execution_count": 79,
   "metadata": {},
   "outputs": [
    {
     "data": {
      "image/png": "[encoded data removed]",
      "text/plain": [
       "<Figure size 432x288 with 1 Axes>"
      ]
     },
     "metadata": {},
     "output_type": "display_data"
    }
   ],
   "source": [
    "# Examing the distribution of station capacity \n",
    "plots.hist(stations[\"dpcapacity\"]);"
   ]
  },
  {
   "cell_type": "code",
   "execution_count": 80,
   "metadata": {},
   "outputs": [
    {
     "name": "stdout",
     "output_type": "stream",
     "text": [
      "Average station capacity is : 17\n"
     ]
    }
   ],
   "source": [
    "ave= sum(stations.column('dpcapacity'))/len(stations.column('dpcapacity'))\n",
    "print('Average station capacity is :',round(ave))"
   ]
  },
  {
   "cell_type": "markdown",
   "metadata": {},
   "source": [
    "**Assumption:** When they are built, stations are constructed with initial capacities that reflect their popularity. For example, the capacity of station 6, situated in the heart of Chicago -Dusable Harbor - has the highest capacity of all which is 55 docks. \n",
    "\n",
    "- The stations capacities have an average of 17 docks, we divide the station data set into two by grouping all stations with more than 20 docks and all stations with fewer than 20 docks."
   ]
  },
  {
   "cell_type": "code",
   "execution_count": 81,
   "metadata": {},
   "outputs": [],
   "source": [
    "high_popularity = []\n",
    "low_popularity = []\n",
    "for i in range(stations.num_rows):\n",
    "    if stations.column('dpcapacity')[i] <= 17:\n",
    "        low_popularity.append(stations.column('id')[i])\n",
    "    elif stations.column('dpcapacity')[i] > 17:\n",
    "        high_popularity.append(stations.column('id')[i])"
   ]
  },
  {
   "cell_type": "code",
   "execution_count": 82,
   "metadata": {},
   "outputs": [
    {
     "name": "stdout",
     "output_type": "stream",
     "text": [
      "number of high popularity stations: 213\n",
      "High popularity stations total capacity: 5086\n"
     ]
    }
   ],
   "source": [
    "# There are 213 stations with high popularity\n",
    "print('number of high popularity stations:',len(high_popularity))\n",
    "\n",
    "\n",
    "high_sum = 0\n",
    "for station_ID in high_popularity:\n",
    "   high_sum +=  stations.where('id',station_ID)[5][0]\n",
    "print('High popularity stations total capacity:',high_sum)"
   ]
  },
  {
   "cell_type": "code",
   "execution_count": 83,
   "metadata": {},
   "outputs": [
    {
     "name": "stdout",
     "output_type": "stream",
     "text": [
      "Number of low popularity stations: 372\n",
      "Low popularity stations total capacity: 5130\n"
     ]
    }
   ],
   "source": [
    "# There are 372 stations with low popularity\n",
    "print('Number of low popularity stations:',len(low_popularity))\n",
    "\n",
    "# Total number of dock capacity at low popularity stations.\n",
    "low_sum = 0\n",
    "for station_ID in low_popularity:\n",
    "   low_sum +=  stations.where('id',station_ID)[5][0]\n",
    "print('Low popularity stations total capacity:',low_sum)"
   ]
  },
  {
   "cell_type": "markdown",
   "metadata": {},
   "source": [
    "**The beginning inventory lower bound is calculated by maintaing a total beginning inventory around 6471 bikes.** \n",
    "\n",
    "Noted: actual numbers of bikes will be calculated with rounding.\n",
    "\n",
    "- We assume high popularity stations and low popularity stations should have different levels of inventory requirement and should have a combined number of approximately 6471 bikes."
   ]
  },
  {
   "cell_type": "code",
   "execution_count": 84,
   "metadata": {},
   "outputs": [],
   "source": [
    "high_begin = 0.73\n",
    "low_begin = 0.51"
   ]
  },
  {
   "cell_type": "markdown",
   "metadata": {},
   "source": [
    "#### These are the rates we designed. "
   ]
  },
  {
   "cell_type": "code",
   "execution_count": 85,
   "metadata": {},
   "outputs": [
    {
     "name": "stdout",
     "output_type": "stream",
     "text": [
      "6430\n"
     ]
    }
   ],
   "source": [
    "high_rate = 0.76\n",
    "low_rate = 0.5\n",
    "# With a total of approximately 6471 bikes \n",
    "print( round(high_rate*high_sum+low_rate*low_sum))"
   ]
  },
  {
   "cell_type": "markdown",
   "metadata": {},
   "source": [
    "**To account for flexibility, we design the ratio be a range.** \n",
    "\n",
    "For both groups, there are a upper bound and a lower bound for the inventory as a fraction of total capacity. When the ending inventory arrives at the lower bound, there is a need to move bikes in to guarantee the supply of that station; when the inventory reaches the upper bound, bikes should be moved out from that station to provide space for other bikes to move in.\n",
    "\n",
    "**The ratio of inventory for high popularity and low popularity stations is calculated by maitaining both ( lb x high_sum + ub x low_sum = ub x high_sum + lb x low_sum = 6471 ).**\n",
    "\n",
    "Noted: actual numbers of bikes will be calculated with rounding."
   ]
  },
  {
   "cell_type": "code",
   "execution_count": 86,
   "metadata": {},
   "outputs": [],
   "source": [
    "high_range = (0.67,0.83)\n",
    "low_range = (0.44,0.6)"
   ]
  },
  {
   "cell_type": "markdown",
   "metadata": {},
   "source": [
    "#### We then give each station ID its ratio by building a dictionary."
   ]
  },
  {
   "cell_type": "code",
   "execution_count": 119,
   "metadata": {},
   "outputs": [],
   "source": [
    "ratio = {}\n",
    "for ID in high_popularity: \n",
    "    ratio[ID] = (0.67,0.83)\n",
    "for ID in low_popularity: \n",
    "    ratio[ID] = (0.44,0.6)"
   ]
  },
  {
   "cell_type": "code",
   "execution_count": 120,
   "metadata": {},
   "outputs": [
    {
     "name": "stdout",
     "output_type": "stream",
     "text": [
      "(0.67, 0.83)\n",
      "(0.44, 0.6)\n"
     ]
    }
   ],
   "source": [
    "print(ratio[2])\n",
    "print(ratio[14])"
   ]
  },
  {
   "cell_type": "markdown",
   "metadata": {},
   "source": [
    "## STEP_2: Creating A Gurobi Object"
   ]
  },
  {
   "cell_type": "code",
   "execution_count": 89,
   "metadata": {},
   "outputs": [
    {
     "name": "stdout",
     "output_type": "stream",
     "text": [
      "Set parameter Username\n",
      "Academic license - for non-commercial use only - expires 2022-10-27\n"
     ]
    }
   ],
   "source": [
    "model = Model('Divvy')"
   ]
  },
  {
   "cell_type": "markdown",
   "metadata": {},
   "source": [
    "## STEP_3 Defining Decision Variables"
   ]
  },
  {
   "cell_type": "markdown",
   "metadata": {},
   "source": [
    "### Decision Variables\n",
    "\n",
    "We define the following decision variables:\n",
    "\n",
    "1. $x_{ijt}$: number of bikes to move from area $i\\in Z$ to area $j\\in Z$ at time $t\\in T$\n",
    "2. $w_{it}$ : ending inventory of station_list[i] at t\n",
    "3. $T_{(t)}$ : number of trailer at t"
   ]
  },
  {
   "cell_type": "code",
   "execution_count": 90,
   "metadata": {},
   "outputs": [],
   "source": [
    "Q3=Table.read_table('D:\\Lecture5\\Divvy_Trips_2017_Q3.csv')\n",
    "Q4=Table.read_table('D:\\Lecture5\\Divvy_Trips_2017_Q4.csv')\n",
    "\n",
    "stations_tb=Table.read_table('D:\\Lecture5\\Divvy_Stations_2017_Q3Q4.csv').sample(100,with_replacement=False)\n",
    "stations_tb.to_csv('D:\\Lecture5\\SAMPLE_station.csv') #export csv\n",
    "stations_df=pd.read_csv(r'D:\\Lecture5\\SAMPLE_station.csv')\n",
    "station_list=stations_df['id'].tolist()\n",
    "station_list.sort()"
   ]
  },
  {
   "cell_type": "markdown",
   "metadata": {},
   "source": [
    "#### Sampling of 100 stations"
   ]
  },
  {
   "cell_type": "code",
   "execution_count": 91,
   "metadata": {},
   "outputs": [],
   "source": [
    "N=100"
   ]
  },
  {
   "cell_type": "code",
   "execution_count": 92,
   "metadata": {},
   "outputs": [],
   "source": [
    "X = {} \n",
    "W = {}\n",
    "T = {}\n",
    "\n",
    "\n",
    "for m in np.arange(N):\n",
    "    for n in np.arange(N):\n",
    "        for t in np.arange(24):\n",
    "            i=station_list[m]\n",
    "            j=station_list[n]\n",
    "            X[(i,j,t)] = model.addVar(lb = 0)\n",
    "            \n",
    "for i in station_list:\n",
    "    for t in np.arange(24):\n",
    "        W[(i,t)] = model.addVar(lb = 0)\n",
    "        \n",
    "for t in np.arange(24):\n",
    "    T[t]=model.addVar(lb=0)\n"
   ]
  },
  {
   "cell_type": "markdown",
   "metadata": {},
   "source": [
    "## STEP_4: Parameters"
   ]
  },
  {
   "cell_type": "markdown",
   "metadata": {},
   "source": [
    "### Parameters calculated from the given data set\n",
    "**current_bike** = the number of current bikes\n",
    "\n",
    "**current_station** = the number of current stations\n",
    "\n",
    "**current_cap** = the number of current capacities\n",
    "\n",
    "**current_trailer** = the number of current trailers\n",
    "\n",
    "### Other parameters\n",
    "\n",
    "**driver_salary** = a trailer driver's salary\n",
    "\n",
    "**gasoline_fee** = the cost of driving one kilometer\n",
    "\n",
    "**trailer_price** = the price of one trailer\n",
    "\n",
    "**trailer_capacity** = the number of bikes trailed moved in one time. \n",
    "\n",
    "**Depreciation_cost_per_day** = the depreciation cost of one trailer per day\n",
    "\n",
    "**Fuel_price_bike_km** = the cost on fuel to reposition one bike per kilometer\n",
    "\n",
    "**hourly_wage** = the hourly wage of one driver in CAD\n",
    "\n",
    "### Sets\n",
    "1. $T =\\{0,1,2,3,...,23\\}$: Hours of the day\n",
    "2. $J =\\{2,3,5,...625\\}$: Station list.\n",
    "3. $D[(i,j)]:Distance from station i to station j .\n",
    "4. $Y[(i,j,t)]: The number of bikes customer riding from station i to station j in hour t. \n"
   ]
  },
  {
   "cell_type": "code",
   "execution_count": 93,
   "metadata": {},
   "outputs": [],
   "source": [
    "#Parameters calculated from the given data set#\n",
    "current_bike = 6471\n",
    "current_station = 100\n",
    "current_cap = 10216\n",
    "current_trailer = 10\n",
    "\n",
    "#other parameters#\n",
    "driver_salary = 1000\n",
    "bike_maintain_fee = 100\n",
    "trailer_cap = 20\n",
    "trailer_price = 32000\n",
    "# Calculating Depreciation_cost_per_day: 32000 CAD/ 5 years/ 365 days\n",
    "depreciation_cost_day = 17.5\n",
    "# Calculating Fuel_price_bike_km: 11.7607292 ( * 1.432) L/ 100km / 25 bikes = 0.0067 CAD / km / bike\n",
    "Fuel_price_bike_km = 0.0067\n",
    "hourly_wage = 25\n",
    "Hour = 24\n",
    "gasoline_fee=0.01\n"
   ]
  },
  {
   "cell_type": "markdown",
   "metadata": {},
   "source": [
    "#### The distance from i to j"
   ]
  },
  {
   "cell_type": "code",
   "execution_count": 94,
   "metadata": {},
   "outputs": [],
   "source": [
    "D={}\n",
    "for m in np.arange(N):\n",
    "    for n in np.arange(N):\n",
    "        for t in np.arange(24):\n",
    "            i=station_list[m]\n",
    "            j=station_list[n]\n",
    "            id_i_latitude = stations['latitude'][m]\n",
    "            id_i_longitude = stations['longitude'][m]\n",
    "            id_j_latitude = stations['latitude'][n]\n",
    "            id_j_longitude = stations['longitude'][n]\n",
    "            latitude_d=hs.haversine((id_i_latitude,0),(id_j_latitude,0))\n",
    "            longititude_d=hs.haversine((0,id_i_longitude),(0,id_j_longitude)) \n",
    "            D[(i,j)]=(latitude_d+longititude_d)"
   ]
  },
  {
   "cell_type": "markdown",
   "metadata": {},
   "source": [
    "#### This is the process for Y[(i, j, t)]\n",
    "\n",
    "- This parameter resembles the number of bikes that customers ride from station i to j at time t. \n",
    "- We want to include this parameter because while we are repositioning bikes, customers are riding them at the same time. \n",
    "- Our original plan is to use all records in quarter three and quarter four,  but due to the large set of data, we decided to sample, and finally reduced the sample size to 7, where we guarantee that we get a day from each month and we select a whole week from Monday to Sunday."
   ]
  },
  {
   "cell_type": "code",
   "execution_count": 95,
   "metadata": {},
   "outputs": [],
   "source": [
    "#function we gonna use. \n",
    "def get_hour_Q3(time):\n",
    "    return int(time[-8:-6])\n",
    "\n",
    "def get_hour_Q4(time):\n",
    "    if time[-5]==\"\":\n",
    "        hour=int(time[-4])\n",
    "    else:\n",
    "        hour=int(time[-5:-3])\n",
    "    return hour\n",
    "\n",
    "def get_month(time):\n",
    "    if time[1]=='/':\n",
    "        month=time[0]\n",
    "    else:\n",
    "        month=time[0:2]\n",
    "    return int(month)\n",
    "\n",
    "def get_date(time):\n",
    "    if time[1]=='/':\n",
    "        if time[3]=='/':\n",
    "            date=time[2]\n",
    "        elif time[4]=='/':\n",
    "            date=time[2:4]\n",
    "    else:\n",
    "        if time[4]=='/':\n",
    "            date=time[3]\n",
    "        elif time[5]=='/':\n",
    "            date=time[3:5]\n",
    "    return int(date)"
   ]
  },
  {
   "cell_type": "code",
   "execution_count": 96,
   "metadata": {},
   "outputs": [],
   "source": [
    "Q3=Q3.where(Q3['tripduration']<=4500)\n",
    "Q4=Q4.where(Q4['tripduration']<=3500)"
   ]
  },
  {
   "cell_type": "code",
   "execution_count": 97,
   "metadata": {},
   "outputs": [],
   "source": [
    "#add column of start time and end time \n",
    "Q3_start_array=Q3.apply(get_hour_Q3,'start_time')\n",
    "Q3=Q3.with_columns(\"start_time_hour\",Q3_start_array)\n",
    "Q3_hour_array=Q3.apply(get_month,'start_time')\n",
    "Q3=Q3.with_columns('month',Q3_hour_array)\n",
    "Q3_date_array=Q3.apply(get_date,'start_time')\n",
    "Q3=Q3.with_columns('date',Q3_date_array)"
   ]
  },
  {
   "cell_type": "code",
   "execution_count": 98,
   "metadata": {},
   "outputs": [],
   "source": [
    "Q3.to_csv('D:\\Lecture5\\Q3.csv') #export csv\n",
    "Q3_df=pd.read_csv(r'D:\\Lecture5\\Q3.csv')\n",
    "Q3_df=Q3_df[['trip_id','from_station_id','to_station_id','start_time_hour','month','date']]"
   ]
  },
  {
   "cell_type": "code",
   "execution_count": 99,
   "metadata": {},
   "outputs": [],
   "source": [
    "#change Q4 table to dataframe \n",
    "Q4_start_array=Q4.apply(get_hour_Q4,'start_time')\n",
    "Q4=Q4.with_columns(\"start_time_hour\",Q4_start_array)\n",
    "Q4_month_array=Q4.apply(get_month,'start_time')\n",
    "Q4_date_array=Q4.apply(get_date,'start_time')\n",
    "Q4=Q4.with_columns('month',Q4_month_array)\n",
    "Q4=Q4.with_columns('date',Q4_date_array)"
   ]
  },
  {
   "cell_type": "code",
   "execution_count": 100,
   "metadata": {},
   "outputs": [],
   "source": [
    "Q4.to_csv('D:\\Lecture5\\Q4.csv') #export csv\n",
    "Q4_df=pd.read_csv(r'D:\\Lecture5\\Q4.csv')\n",
    "Q4_df=Q4_df[['trip_id','from_station_id','to_station_id','start_time_hour','month','date']]"
   ]
  },
  {
   "cell_type": "markdown",
   "metadata": {},
   "source": [
    "- Week we choose from each month: np.random.choice(180,7)\n",
    "- The result is 155 133 52 80 59 170 166. Therefore we choose these days from Q3 and Q4, including each month of two quarters and each day of week."
   ]
  },
  {
   "cell_type": "code",
   "execution_count": 101,
   "metadata": {},
   "outputs": [],
   "source": [
    "sample1=Q3_df[(Q3_df['month']==7)&(Q3_df['date']==14)]#Friday\n",
    "sample2=Q3_df[(Q3_df['month']==8)&(Q3_df['date']==29)]#Tuesday\n",
    "sample3=Q3_df[(Q3_df['month']==8)&(Q3_df['date']==21)]#Monday\n",
    "sample4=Q3_df[(Q3_df['month']==9)&(Q3_df['date']==20)]#Wednesday\n",
    "sample5=Q4_df[(Q4_df['month']==10)&(Q4_df['date']==19)]#Thursday\n",
    "sample6=Q4_df[(Q4_df['month']==11)&(Q4_df['date']==11)]#Saturday\n",
    "sample7=Q4_df[(Q4_df['month']==12)&(Q4_df['date']==3)] #Sunday\n",
    "\n",
    "Q3_Q4_sample=pd.concat([sample1,sample2,sample3,sample4,sample5,sample6,sample7],axis=0)"
   ]
  },
  {
   "cell_type": "code",
   "execution_count": 102,
   "metadata": {},
   "outputs": [],
   "source": [
    "Y={}\n",
    "\n",
    "for i in station_list:\n",
    "    for j in station_list:\n",
    "        for t in np.arange(24):\n",
    "            Y[(i,j,t)]=round((Q3_Q4_sample['trip_id'][(Q3_Q4_sample['from_station_id']==i) & \n",
    "                                        (Q3_Q4_sample['to_station_id']==j)&\n",
    "                                        (Q3_Q4_sample['start_time_hour']==t)].count()/7))+1 "
   ]
  },
  {
   "cell_type": "markdown",
   "metadata": {},
   "source": [
    "- As we generate data from both quarter three and quarter four, the number of bikes customers ride away should be lower than the actual situation in quarter 3 and larger than quarter 4."
   ]
  },
  {
   "cell_type": "markdown",
   "metadata": {},
   "source": [
    "## STEP_5: Constraints"
   ]
  },
  {
   "cell_type": "markdown",
   "metadata": {},
   "source": [
    "*1. The total number of bikes moved at time $t$ has to be less than 200:*\n",
    "$$\\sum_{i\\in J}\\sum_{j\\in J}x_{ijt}\\leq 200,\\quad \\forall t\\in T$$"
   ]
  },
  {
   "cell_type": "code",
   "execution_count": 103,
   "metadata": {},
   "outputs": [],
   "source": [
    "bike_moving={}\n",
    "for t in np.arange(24):\n",
    "            bike_moving[t]=model.addConstr(quicksum(X[(i,j,t)] for i in station_list for j in station_list)<=200)"
   ]
  },
  {
   "cell_type": "markdown",
   "metadata": {},
   "source": [
    "*2. Ending inventory constraint:*\n",
    "\n",
    "$$W_{ij}=W_{i,t-1}+\\sum_{j \\in J}X_{jit}-\\sum_{j \\in J}X_{ijt}+\\sum_{j \\in J}Y_{jit}-\\sum_{j \\in J}Y_{ijt},\\forall i \\in I, \\forall t \\in T$$"
   ]
  },
  {
   "cell_type": "code",
   "execution_count": 104,
   "metadata": {
    "scrolled": true
   },
   "outputs": [],
   "source": [
    "#We want to create the list for the begin inventory,lower bound and upper bound \n",
    "import pandas as pd\n",
    "Stations8=stations_df.sort_values(by='dpcapacity',ascending=True)\n",
    "Stations9=stations_df[['id','dpcapacity']]\n",
    "Stations10_high=Stations9[Stations9.dpcapacity>17]\n",
    "Stations10_low=Stations9[Stations9.dpcapacity<=17]"
   ]
  },
  {
   "cell_type": "markdown",
   "metadata": {},
   "source": [
    "#### Beginning Inventory"
   ]
  },
  {
   "cell_type": "code",
   "execution_count": 105,
   "metadata": {},
   "outputs": [],
   "source": [
    "Stations10_high_2=Stations10_high.assign(Begin_Inventory=round(Stations10_high.dpcapacity*0.73))\n",
    "Stations10_low_2=Stations10_low.assign(Begin_Inventory=round(Stations10_low.dpcapacity*0.51))\n",
    "Station_begin_inventory=pd.concat([Stations10_high_2,Stations10_low_2],axis=0)\n",
    "Station_begin_inventory=Station_begin_inventory.sort_values(by='id',ascending=True)\n",
    "begin_inventory_list=Station_begin_inventory['Begin_Inventory'].to_list()\n",
    "begin_inventory=[]\n",
    "for i in begin_inventory_list:\n",
    "    begin_inventory.append(int(i))"
   ]
  },
  {
   "cell_type": "markdown",
   "metadata": {},
   "source": [
    "#### Upper Bound"
   ]
  },
  {
   "cell_type": "code",
   "execution_count": 106,
   "metadata": {},
   "outputs": [],
   "source": [
    "Stations10_high_3=Stations10_high_2.assign(Upper_bound=round(Stations10_high_2.dpcapacity*0.83))\n",
    "Stations10_low_3=Stations10_low_2.assign(Upper_bound=round(Stations10_low_2.dpcapacity*0.6))\n",
    "Stations_upperbound=pd.concat([Stations10_high_3,Stations10_low_3],axis=0)\n",
    "Stations_upperbound=Stations_upperbound.sort_values(by='id',ascending=True)\n",
    "Upperbound_list=Stations_upperbound['Upper_bound'].to_list()\n",
    "Upperbound=[]\n",
    "for i in Upperbound_list:\n",
    "    Upperbound.append(int(i))"
   ]
  },
  {
   "cell_type": "markdown",
   "metadata": {},
   "source": [
    "#### Lower Bound"
   ]
  },
  {
   "cell_type": "code",
   "execution_count": 107,
   "metadata": {},
   "outputs": [],
   "source": [
    "Stations10_high_4=Stations10_high_2.assign(Lower_bound=round(Stations10_high_2.dpcapacity*0.67))\n",
    "Stations10_low_4=Stations10_low_2.assign(Lower_bound=round(Stations10_low_2.dpcapacity*0.44))\n",
    "Stations_lowerbound=pd.concat([Stations10_high_4,Stations10_low_4],axis=0)\n",
    "Stations_lowerbound=Stations_lowerbound.sort_values(by='id',ascending=True)\n",
    "Lowerbound_list=Stations_lowerbound['Lower_bound'].to_list()\n",
    "Lowerbound=[]\n",
    "for i in Lowerbound_list:\n",
    "    Lowerbound.append(int(i))"
   ]
  },
  {
   "cell_type": "markdown",
   "metadata": {},
   "source": [
    "#### Inventory Constraint"
   ]
  },
  {
   "cell_type": "code",
   "execution_count": 108,
   "metadata": {},
   "outputs": [],
   "source": [
    "#Add Ending Inventory Constraint:\n",
    "ending_inventory={}\n",
    "for m in np.arange(N):\n",
    "    i=station_list[m]\n",
    "    ending_inventory[(i,0)]=model.addConstr(W[(i,0)]==begin_inventory[m])\n",
    "    for t in np.arange(1,24):\n",
    "        ending_inventory[(i,t)]=model.addConstr(W[(i,t)]==W[(i,t-1)]+quicksum(X[(j,i,t)]-X[(i,j,t)] +Y[(j,i,t)]-Y[(i,j,t)]for j in station_list))\n",
    "\n",
    "#Add constraint for lower bound for the ending inventory (already be polished in the list: Lowerbound)\n",
    "        ending_inventory[(i,t)]=model.addConstr(W[(i,t)]>=Lowerbound[m])\n",
    "\n",
    "#Add constraint for upper bound for the ending inventory (already be polished in the list: Upperbound)   \n",
    "        ending_inventory[(i,t)]=model.addConstr(W[(i,t)]<=Upperbound[m])"
   ]
  },
  {
   "cell_type": "markdown",
   "metadata": {},
   "source": [
    "*3. Trailer limit constraint:*\n",
    "\n",
    "As one trailer has the capacity of moving 20 bikes,  to control our cost on trailers and drivers, the number of trailers should be limited to less than 10"
   ]
  },
  {
   "cell_type": "code",
   "execution_count": 109,
   "metadata": {},
   "outputs": [],
   "source": [
    "#assume that the capaity of each trailer is 25 bike\n",
    "trailer_number_constrain={}\n",
    "\n",
    "#trailer needs to satisfy the demand of moving bikes\n",
    "for t in np.arange(24):\n",
    "    trailer_number_constrain[t]=model.addConstr(T[t]*trailer_cap>=quicksum(X[(i,j,t)] for i in station_list for j in station_list))\n",
    "\n",
    "            #maximum constraint for the trailer\n",
    "#(we have constraint for The total number of bikes moved at time t has to be less than 200) )\n",
    "    trailer_number_constrain[t]=model.addConstr(T[t]<=200/trailer_cap)"
   ]
  },
  {
   "cell_type": "markdown",
   "metadata": {},
   "source": [
    "## STEP_6: Deriving Objective Function Process"
   ]
  },
  {
   "cell_type": "markdown",
   "metadata": {},
   "source": [
    "#### The fuel cost spend on repositioning"
   ]
  },
  {
   "cell_type": "code",
   "execution_count": 110,
   "metadata": {},
   "outputs": [],
   "source": [
    "Fuel_cost=quicksum(X[(i,j,t)]*D[(i,j)]*Fuel_price_bike_km \n",
    "                   for i in station_list for j in station_list for t in np.arange(24))"
   ]
  },
  {
   "cell_type": "markdown",
   "metadata": {},
   "source": [
    "#### The depreciation cost for using trailer"
   ]
  },
  {
   "cell_type": "code",
   "execution_count": 111,
   "metadata": {
    "scrolled": true
   },
   "outputs": [],
   "source": [
    "Depreciation_cost=quicksum(T[t] for t in np.arange(24))*depreciation_cost_day/24"
   ]
  },
  {
   "cell_type": "markdown",
   "metadata": {},
   "source": [
    "#### The salary for the trailer driver"
   ]
  },
  {
   "cell_type": "code",
   "execution_count": 112,
   "metadata": {},
   "outputs": [],
   "source": [
    "Wage = quicksum(T[t] for t in np.arange(24))*hourly_wage "
   ]
  },
  {
   "cell_type": "markdown",
   "metadata": {},
   "source": [
    "## STEP_7: Objective Function"
   ]
  },
  {
   "cell_type": "markdown",
   "metadata": {},
   "source": [
    "### The objective function minimizes the cost of moving bikes:\n",
    "\n",
    "$$\\min Fuel\\_cost +\\ Depreciation\\_cost +\\ Wage $$"
   ]
  },
  {
   "cell_type": "code",
   "execution_count": 113,
   "metadata": {},
   "outputs": [
    {
     "name": "stdout",
     "output_type": "stream",
     "text": [
      "Gurobi Optimizer version 9.5.0 build v9.5.0rc5 (win64)\n",
      "Thread count: 8 physical cores, 16 logical processors, using up to 16 threads\n",
      "Optimize a model with 7072 rows, 242424 columns and 944748 nonzeros\n",
      "Model fingerprint: 0xf166161a\n",
      "Coefficient statistics:\n",
      "  Matrix range     [1e+00, 2e+01]\n",
      "  Objective range  [9e-04, 3e+01]\n",
      "  Bounds range     [0e+00, 0e+00]\n",
      "  RHS range        [1e+00, 2e+02]\n",
      "\n",
      "Concurrent LP optimizer: primal simplex, dual simplex, and barrier\n",
      "Showing barrier log only...\n",
      "\n",
      "Presolve removed 4726 rows and 12401 columns\n",
      "Presolve time: 1.10s\n",
      "Presolved: 2346 rows, 230023 columns, 915323 nonzeros\n",
      "\n",
      "Ordering time: 0.02s\n",
      "\n",
      "Barrier statistics:\n",
      " AA' NZ     : 1.207e+05\n",
      " Factor NZ  : 3.427e+05 (roughly 100 MB of memory)\n",
      " Factor Ops : 5.305e+07 (less than 1 second per iteration)\n",
      " Threads    : 6\n",
      "\n",
      "                  Objective                Residual\n",
      "Iter       Primal          Dual         Primal    Dual     Compl     Time\n",
      "   0   4.99163939e+04 -7.76006641e+03  4.66e+04 1.32e+00  4.13e+01     1s\n",
      "\n",
      "Barrier performed 0 iterations in 1.39 seconds (0.55 work units)\n",
      "Barrier solve interrupted - model solved by another algorithm\n",
      "\n",
      "\n",
      "Solved with dual simplex\n",
      "Solved in 568 iterations and 1.41 seconds (0.73 work units)\n",
      "Optimal objective  5.982620815e+01\n"
     ]
    }
   ],
   "source": [
    "obj = Fuel_cost + Depreciation_cost + Wage\n",
    "model.setObjective(obj, GRB.MINIMIZE)\n",
    "model.optimize()"
   ]
  },
  {
   "cell_type": "code",
   "execution_count": 114,
   "metadata": {},
   "outputs": [
    {
     "name": "stdout",
     "output_type": "stream",
     "text": [
      "Gurobi Optimizer version 9.5.0 build v9.5.0rc5 (win64)\n",
      "Thread count: 8 physical cores, 16 logical processors, using up to 16 threads\n",
      "Optimize a model with 7072 rows, 242424 columns and 944748 nonzeros\n",
      "Coefficient statistics:\n",
      "  Matrix range     [1e+00, 2e+01]\n",
      "  Objective range  [9e-04, 3e+01]\n",
      "  Bounds range     [0e+00, 0e+00]\n",
      "  RHS range        [1e+00, 2e+02]\n",
      "\n",
      "Solved in 0 iterations and 0.00 seconds (0.00 work units)\n",
      "Optimal objective  5.982620815e+01\n"
     ]
    }
   ],
   "source": [
    "model.optimize()"
   ]
  },
  {
   "cell_type": "markdown",
   "metadata": {},
   "source": [
    "## Model_Findings"
   ]
  },
  {
   "cell_type": "markdown",
   "metadata": {},
   "source": [
    "Initially we used the whole station list, but we encountered hardware and license problems, so we finally sampled 100 stations from the total 585 stations.\n",
    "\n",
    "**The results:**\n",
    "- The total cost for repositioning bikes per day is 18 dollars, and if we want to estimate for the cost for 585 stations, we expand the 100*100 map to 600*600 dimension map, so we estimate the total cost is about 18*36 = 648 dollars. \n",
    "- The different samples would generate different results. "
   ]
  },
  {
   "cell_type": "markdown",
   "metadata": {},
   "source": [
    "# Sensitivity_Analysis"
   ]
  },
  {
   "cell_type": "markdown",
   "metadata": {},
   "source": [
    "## A - Assumptions: \n",
    "### Sensitivity Test 1:\n",
    "#### The initial inventory alert ratios are designed to be high_range = (0.67,0.83) ; low_range = (0.44,0.6). We want to examine the impact on the model if we make the range wider. This change will make the model less sensitive. For example, the model was initially instructed to move bikes into station i if the inventory gets under 4 bikes, if we make the range wider, the model will now be instructed to move bikes into station i when there are 2 bikes. "
   ]
  },
  {
   "cell_type": "markdown",
   "metadata": {},
   "source": [
    "#### The new range is designed under similar principle with the initial range. The ratio of inventory for high popularity and low popularity stations is calculated by maitaining both ( lb x high_sum + ub x low_sum = ub x high_sum + lb x low_sum = 6471 ).\n",
    "\n",
    "#### Note: actual numbers of bikes will be calculated with rounding."
   ]
  },
  {
   "cell_type": "code",
   "execution_count": 124,
   "metadata": {},
   "outputs": [
    {
     "name": "stdout",
     "output_type": "stream",
     "text": [
      "5086 5130\n"
     ]
    }
   ],
   "source": [
    "print(high_sum,low_sum)"
   ]
  },
  {
   "cell_type": "code",
   "execution_count": 126,
   "metadata": {
    "scrolled": false
   },
   "outputs": [
    {
     "name": "stdout",
     "output_type": "stream",
     "text": [
      "6475.5\n",
      "6494.42\n"
     ]
    }
   ],
   "source": [
    "# New Range. Wider - Lower lb and Higher ub\n",
    "# The results of the two following equations should be approximately 6471\n",
    "high_range=(0.47,0.9)\n",
    "low_range=(0.37,0.8)\n",
    "print(high_range[1] * high_sum+  low_range[0] * low_sum) \n",
    "print(high_range[0] * high_sum+  low_range[1] * low_sum)"
   ]
  },
  {
   "cell_type": "markdown",
   "metadata": {},
   "source": [
    "### Sensitivity Test 2:"
   ]
  },
  {
   "cell_type": "markdown",
   "metadata": {},
   "source": [
    "### In the initial model the total number of bikes in time t is designed to be 200 bikes, calculated by 10(trailers)x 20(moving bikes capacity of one trailer ). Now we would like to examine the change in model results due to changes  in this paramter. "
   ]
  },
  {
   "cell_type": "markdown",
   "metadata": {},
   "source": [
    "##  B - Define the sensitivity test function "
   ]
  },
  {
   "cell_type": "code",
   "execution_count": 115,
   "metadata": {},
   "outputs": [],
   "source": [
    "def sensitivity_1(boundary_bike,high_upper,low_upper,high_lower,low_lower):\n",
    "      \n",
    "    #decision variable\n",
    "    X = {} \n",
    "    W = {}\n",
    "    T = {}\n",
    "    \n",
    "    #create decision variable\n",
    "    for m in np.arange(100):\n",
    "        for n in np.arange(100):\n",
    "            for t in np.arange(24):\n",
    "                i=station_list[m]\n",
    "                j=station_list[n]\n",
    "                X[(i,j,t)] = model.addVar(lb = 0)\n",
    "            \n",
    "    for i in station_list:\n",
    "        for t in np.arange(24):\n",
    "            W[(i,t)] = model.addVar(lb = 0)\n",
    "        \n",
    "    for t in np.arange(24):\n",
    "        T[t]=model.addVar(lb=0)\n",
    "    \n",
    "    \n",
    "    #constraint\n",
    "    #(1)the number of bike moving\n",
    "    bike_moving={}\n",
    "    for t in np.arange(24):\n",
    "        bike_moving[t]=model.addConstr(quicksum(X[(i,j,t)] for i in station_list for j in station_list)<=boundary_bike)\n",
    "\n",
    "    #(2)inventory\n",
    "    #We want to create the list for the begin inventory,lower bound and upper bound \n",
    "    Stations8=stations_df.sort_values(by='dpcapacity',ascending=True)\n",
    "    Stations9=stations_df[['id','dpcapacity']]\n",
    "    Stations10_high=Stations9[Stations9.dpcapacity>17]\n",
    "    Stations10_low=Stations9[Stations9.dpcapacity<=17]\n",
    "\n",
    "    #Beginning Inventory\n",
    "    Stations10_high_2=Stations10_high.assign(Begin_Inventory=round(Stations10_high.dpcapacity*0.73))\n",
    "    Stations10_low_2=Stations10_low.assign(Begin_Inventory=round(Stations10_low.dpcapacity*0.51))\n",
    "    Station_begin_inventory=pd.concat([Stations10_high_2,Stations10_low_2],axis=0)\n",
    "    Station_begin_inventory=Station_begin_inventory.sort_values(by='id',ascending=True)\n",
    "    begin_inventory_list=Station_begin_inventory['Begin_Inventory'].to_list()\n",
    "    begin_inventory=[]\n",
    "    for i in begin_inventory_list:\n",
    "        begin_inventory.append(int(i))\n",
    "\n",
    "    #UpperBound\n",
    "    Stations10_high_3=Stations10_high_2.assign(Upper_bound=round(Stations10_high_2.dpcapacity*high_upper))\n",
    "    Stations10_low_3=Stations10_low_2.assign(Upper_bound=round(Stations10_low_2.dpcapacity*low_upper))\n",
    "    Stations_upperbound=pd.concat([Stations10_high_3,Stations10_low_3],axis=0)\n",
    "    Stations_upperbound=Stations_upperbound.sort_values(by='id',ascending=True)\n",
    "    Upperbound_list=Stations_upperbound['Upper_bound'].to_list()\n",
    "    Upperbound=[]\n",
    "    for i in Upperbound_list:\n",
    "        Upperbound.append(int(i))\n",
    "    #Upperbound=stations['dpcapacity'].to_list()#11.27更改\n",
    "\n",
    "    #Lowerbound\n",
    "    Stations10_high_4=Stations10_high_2.assign(Lower_bound=round(Stations10_high_2.dpcapacity*high_lower))\n",
    "    Stations10_low_4=Stations10_low_2.assign(Lower_bound=round(Stations10_low_2.dpcapacity*low_lower))\n",
    "    Stations_lowerbound=pd.concat([Stations10_high_4,Stations10_low_4],axis=0)\n",
    "    Stations_lowerbound=Stations_lowerbound.sort_values(by='id',ascending=True)\n",
    "    Lowerbound_list=Stations_lowerbound['Lower_bound'].to_list()\n",
    "    Lowerbound=[]\n",
    "    for i in Lowerbound_list:\n",
    "        Lowerbound.append(int(i))\n",
    "    \n",
    "    #Inventory constraint\n",
    "\n",
    "    #Add Ending Inventory Constraint:\n",
    "    ending_inventory={}\n",
    "    for m in np.arange(100):\n",
    "        i=station_list[m]\n",
    "        ending_inventory[(i,0)]=model.addConstr(W[(i,0)]==begin_inventory[m])\n",
    "        for t in np.arange(1,24):\n",
    "            ending_inventory[(i,t)]=model.addConstr(W[(i,t)]==W[(i,t-1)]+quicksum(X[(j,i,t)]-X[(i,j,t)] +Y[(j,i,t)]-Y[(i,j,t)]for j in station_list))\n",
    "\n",
    "    #Add constraint for lower bound for the ending inventory (already be polished in the list: Lowerbound)\n",
    "            ending_inventory[(i,t)]=model.addConstr(W[(i,t)]>=Lowerbound[m])\n",
    "\n",
    "    #Add constraint for upper bound for the ending inventory (already be polished in the list: Upperbound)   \n",
    "            ending_inventory[(i,t)]=model.addConstr(W[(i,t)]<=Upperbound[m])\n",
    "        \n",
    "    #(3)number of trailer\n",
    "    #assume that the capaity of each trailer is 20 bike\n",
    "    trailer_number_constrain={}\n",
    "    #trailer needs to satisfy the demand of moving bikes\n",
    "    for t in np.arange(24):\n",
    "        trailer_number_constrain[t]=model.addConstr(T[t]*trailer_cap>=quicksum(X[(i,j,t)] for i in station_list for j in station_list))\n",
    "\n",
    "    #maximum constraint for the trailer\n",
    "    #(we have constraint for The total number of bikes moved at time t has to be less than 200) )\n",
    "        trailer_number_constrain[t]=model.addConstr(T[t]<=200/trailer_cap)\n",
    "    \n",
    "    \n",
    "    #Objective process\n",
    "    #repositioning cost\n",
    "    #Wage+Fuel_cost+Depreciation_cost\n",
    "\n",
    "    #The Fuel cost spend on repostioning\n",
    "    Fuel_cost_sensitivity=quicksum(X[(i,j,t)]*D[(i,j)]*Fuel_price_bike_km \n",
    "                   for i in station_list for j in station_list for t in np.arange(24))\n",
    "\n",
    "    #The depreciation cost for using trailer\n",
    "    Depreciation_cost_sensitivity=quicksum(T[t] for t in np.arange(24))*depreciation_cost_day/24\n",
    "\n",
    "    #The salary for the trailer driver\n",
    "    Wage_sensitivity = quicksum(T[t] for t in np.arange(24))*hourly_wage \n",
    "    \n",
    "    \n",
    "    #Objective function\n",
    "    obj = Fuel_cost_sensitivity + Depreciation_cost_sensitivity + Wage_sensitivity\n",
    "    model.setObjective(obj, GRB.MINIMIZE)\n",
    "    model.optimize()\n",
    "    \n",
    "    return model.objVal"
   ]
  },
  {
   "cell_type": "markdown",
   "metadata": {},
   "source": [
    "## 1. Sensitivity Test 1 "
   ]
  },
  {
   "cell_type": "markdown",
   "metadata": {},
   "source": [
    "| Variable | Value | \n",
    "| --- | --- | \n",
    "| High Popularity Range |  <font color='red'>(0.47,0.9)</font> | \n",
    "| High Popularity Range| <font color='red'>(0.38,0.8)</font> |\n",
    "| Number of moved bikes at time t  | 200 | \n"
   ]
  },
  {
   "cell_type": "code",
   "execution_count": 116,
   "metadata": {
    "scrolled": true
   },
   "outputs": [
    {
     "name": "stdout",
     "output_type": "stream",
     "text": [
      "Gurobi Optimizer version 9.5.0 build v9.5.0rc5 (win64)\n",
      "Thread count: 8 physical cores, 16 logical processors, using up to 16 threads\n",
      "Optimize a model with 14144 rows, 484848 columns and 1889496 nonzeros\n",
      "Coefficient statistics:\n",
      "  Matrix range     [1e+00, 2e+01]\n",
      "  Objective range  [9e-04, 3e+01]\n",
      "  Bounds range     [0e+00, 0e+00]\n",
      "  RHS range        [1e+00, 2e+02]\n",
      "Iteration    Objective       Primal Inf.    Dual Inf.      Time\n",
      "       0    0.0000000e+00   2.034200e+04   0.000000e+00      0s\n",
      "    4685    1.5515312e+01   0.000000e+00   0.000000e+00      0s\n",
      "\n",
      "Solved in 4685 iterations and 0.45 seconds (0.18 work units)\n",
      "Optimal objective  1.551531189e+01\n"
     ]
    },
    {
     "data": {
      "text/plain": [
       "15.51531188753495"
      ]
     },
     "execution_count": 116,
     "metadata": {},
     "output_type": "execute_result"
    }
   ],
   "source": [
    "sensitivity_1(200,0.9,0.8,0.47,0.37)"
   ]
  },
  {
   "cell_type": "markdown",
   "metadata": {},
   "source": [
    "## Observation from sensitivity test 1"
   ]
  },
  {
   "cell_type": "markdown",
   "metadata": {},
   "source": [
    "### As expected, the cost of repositioning drops from 59 CAD to 15 CAD. This is explained by the decrease in the model's alert level to changes in inventory. The model is now less often instructed to move bikes. The Divvy company can design their own inventory ratios according to actual situations. "
   ]
  },
  {
   "cell_type": "markdown",
   "metadata": {},
   "source": [
    "## 2. Sensitivity Test 2"
   ]
  },
  {
   "cell_type": "markdown",
   "metadata": {},
   "source": [
    "| Variable | Value | \n",
    "| --- | --- | \n",
    "| High Popularity Range |  (0.6,0.83)| \n",
    "| High Popularity Range| (0.44,0.67) |\n",
    "| Number of moved bikes at time t  |  <font color='red'>100/50</font> | "
   ]
  },
  {
   "cell_type": "code",
   "execution_count": 117,
   "metadata": {
    "scrolled": true
   },
   "outputs": [
    {
     "name": "stdout",
     "output_type": "stream",
     "text": [
      "Gurobi Optimizer version 9.5.0 build v9.5.0rc5 (win64)\n",
      "Thread count: 8 physical cores, 16 logical processors, using up to 16 threads\n",
      "Optimize a model with 21216 rows, 727272 columns and 2834244 nonzeros\n",
      "Coefficient statistics:\n",
      "  Matrix range     [1e+00, 2e+01]\n",
      "  Objective range  [9e-04, 3e+01]\n",
      "  Bounds range     [0e+00, 0e+00]\n",
      "  RHS range        [1e+00, 2e+02]\n",
      "Iteration    Objective       Primal Inf.    Dual Inf.      Time\n",
      "       0    0.0000000e+00   2.646000e+04   0.000000e+00      0s\n",
      "    5229    5.9826208e+01   0.000000e+00   0.000000e+00      1s\n",
      "\n",
      "Solved in 5229 iterations and 1.10 seconds (0.82 work units)\n",
      "Optimal objective  5.982620815e+01\n"
     ]
    },
    {
     "data": {
      "text/plain": [
       "59.8262081514152"
      ]
     },
     "execution_count": 117,
     "metadata": {},
     "output_type": "execute_result"
    }
   ],
   "source": [
    "sensitivity_1(100,0.83,0.6,0.67,0.44)"
   ]
  },
  {
   "cell_type": "code",
   "execution_count": 118,
   "metadata": {
    "scrolled": true
   },
   "outputs": [
    {
     "name": "stdout",
     "output_type": "stream",
     "text": [
      "Gurobi Optimizer version 9.5.0 build v9.5.0rc5 (win64)\n",
      "Thread count: 8 physical cores, 16 logical processors, using up to 16 threads\n",
      "Optimize a model with 28288 rows, 969696 columns and 3778992 nonzeros\n",
      "Coefficient statistics:\n",
      "  Matrix range     [1e+00, 2e+01]\n",
      "  Objective range  [9e-04, 3e+01]\n",
      "  Bounds range     [0e+00, 0e+00]\n",
      "  RHS range        [1e+00, 2e+02]\n",
      "Iteration    Objective       Primal Inf.    Dual Inf.      Time\n",
      "       0    0.0000000e+00   2.646000e+04   0.000000e+00      0s\n",
      "    5158    5.9826208e+01   0.000000e+00   0.000000e+00      1s\n",
      "\n",
      "Solved in 5158 iterations and 1.09 seconds (0.83 work units)\n",
      "Optimal objective  5.982620815e+01\n"
     ]
    },
    {
     "data": {
      "text/plain": [
       "59.82620815141521"
      ]
     },
     "execution_count": 118,
     "metadata": {},
     "output_type": "execute_result"
    }
   ],
   "source": [
    "sensitivity_1(50,0.83,0.6,0.67,0.44)"
   ]
  },
  {
   "cell_type": "markdown",
   "metadata": {},
   "source": [
    "## Observation from sensitivity test 2"
   ]
  },
  {
   "cell_type": "markdown",
   "metadata": {},
   "source": [
    "### The repositioning costs do not change much if the total number of bikes to be moved within time t is now restricted to 100 or 50, meaning the need for bikes does not have a total number exceeding the parameter. "
   ]
  },
  {
   "cell_type": "markdown",
   "metadata": {},
   "source": [
    "# 4"
   ]
  },
  {
   "cell_type": "markdown",
   "metadata": {},
   "source": [
    "## Conclusion and Managerial Insights"
   ]
  },
  {
   "cell_type": "markdown",
   "metadata": {},
   "source": [
    "In conclusion, this project gave us insight into Divvy, the bike-sharing system, through exploration of three key topics: the Divvy user base and usage patterns, the efficiency of Divvy operations, and the per-bike unit economics.\n",
    "\n",
    "Based on our linear program model, we can conclude that with a sampling of 100 stations, the daily repositioning cost is 18 dollars. We estimate the cost for the total station population of 585 stations to be 648 dollars per day. \n",
    "\n",
    "From the result of the sensitivity reports, we can see, if we set a wider lower bound and upper bound ratio, the daily cost will be substantially lower to 2 dollars per day. This result makes intuitive sense because the model is now less sensitive. For example, with the initial ratio, we would only move bikes when there are 4 bikes left in the station, but now bikes should be moved in when there are 2 bikes left."
   ]
  },
  {
   "cell_type": "markdown",
   "metadata": {},
   "source": [
    "In terms of managerial insights, understanding the user-level ridership patterns is crucial to minimize the company’s repositioning cost. Therefore, we should further analyze the data across a longer time frame instead of the two quarters to discover more detailed usage patterns such as the bike downtime, relocation patterns, and availability of bikes at high usage stations. Such that, we would get better results in the conversion and retention rates as well as the average number of rides by users per week. This would help us to optimize our pricing model to increase unit economics and revenue and reduce the expenses. \n",
    "\n",
    "We would also increase the revenue by maximizing ridership, that we can implement referral incentives to users, such as providing special offers on the pricing and trip duration if they invite friends to ride bikes together. We can also send out surveys to get feedback from the users, to improve the design of our bikes to attract more one-time riders, for instance, adding mobile phone or GPS holders on the handle bar.\n",
    "\n",
    "These further investigations and improvements would help the company to not only improve cost-efficiency on the system operations, but also increase ridership to maximize the profit in the end."
   ]
  },
  {
   "cell_type": "markdown",
   "metadata": {},
   "source": [
    "# 5"
   ]
  },
  {
   "cell_type": "markdown",
   "metadata": {},
   "source": [
    "## Author Contributions"
   ]
  },
  {
   "cell_type": "markdown",
   "metadata": {},
   "source": [
    "All members of the team were a part of the designing and structuring of the model. Xinyue Zhang and Zhixuan Ren coded and solved the LP. All members worked on the presentation, wrote the report, and explained the findings."
   ]
  },
  {
   "cell_type": "markdown",
   "metadata": {},
   "source": [
    "<h1><center>Thank you for reading our report!</center></h1>"
   ]
  }
 ],
 "metadata": {
  "kernelspec": {
   "display_name": "Python 3 (ipykernel)",
   "language": "python",
   "name": "python3"
  },
  "language_info": {
   "codemirror_mode": {
    "name": "ipython",
    "version": 3
   },
   "file_extension": ".py",
   "mimetype": "text/x-python",
   "name": "python",
   "nbconvert_exporter": "python",
   "pygments_lexer": "ipython3",
   "version": "3.9.13"
  }
 },
 "nbformat": 4,
 "nbformat_minor": 2
}
